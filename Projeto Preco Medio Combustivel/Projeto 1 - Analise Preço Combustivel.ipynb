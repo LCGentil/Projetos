{
 "cells": [
  {
   "cell_type": "markdown",
   "id": "5954b5a3",
   "metadata": {},
   "source": [
    "# <font color='blue'>ANÁLISE DE DADOS DO PREÇO DA GASOLINA E ETANOL</font>"
   ]
  },
  {
   "cell_type": "markdown",
   "id": "92d83c7c",
   "metadata": {},
   "source": [
    "## Sumário:\n",
    ">**1-Descrição do Projeto**<br>\n",
    ">**2-Carregando os Dados**<br>\n",
    ">**3-Análise Exploratória dos Dados**<br>\n",
    ">**4-Tratamento e Limpeza**<br>\n",
    ">**5-Salvando Dataset após Processamento de Dados**<br>\n",
    ">**6-Análise de Dados no Power BI**<br>\n",
    ">**7-Relatório Final**"
   ]
  },
  {
   "cell_type": "markdown",
   "id": "f99b6cf4",
   "metadata": {},
   "source": [
    "                                                                                                         Versão: 1.0"
   ]
  },
  {
   "cell_type": "markdown",
   "id": "b522938e",
   "metadata": {},
   "source": [
    "## 1-Descrição do Projeto"
   ]
  },
  {
   "cell_type": "markdown",
   "id": "bb07c42e",
   "metadata": {},
   "source": [
    "![](imagens/img_projeto8.png)"
   ]
  },
  {
   "cell_type": "markdown",
   "id": "2dfa90a5",
   "metadata": {},
   "source": [
    "![](imagens/img_projeto8.png)"
   ]
  },
  {
   "cell_type": "markdown",
   "id": "2c0c5a0f",
   "metadata": {},
   "source": [
    "Descrição:\n",
    "* O projeto consiste em analisar o preço médio do etanol, gasolina e gasolina aditivada praticada no Brasil.\n",
    "* O objetivo é extrair o preço médio dos respectivos combustíveis no 1º trimestre de 2023 a nível nacional, regional e estadual, indicando os 3 estados com o maior preço médio por produto, o preço médio, o preço mínimo, o preço máximo, o preço médio regional, a variação do preço médio ao longo do tempo e a tendência do valor de venda.\n",
    "* Os dados são de domínio publico e podem ser obtidos no site de dados abertos do governo brasileiro. (dados.gov.br)\n",
    "* O projeto será realizado no jupyter notebook em duas etapas, onde a primeira etapa consiste em executar uma análise exploratória e o processamento dos dados com auxílio da linguagem Python e na segunda etapa apresentar uma análise visual do resultado com Power BI.\n",
    "\n",
    "**Nota:** Os arquivos serão disponibilizados no meu repositório do Github."
   ]
  },
  {
   "cell_type": "markdown",
   "id": "66c2b1cd",
   "metadata": {},
   "source": [
    "## 2-Carregando os Dados"
   ]
  },
  {
   "cell_type": "code",
   "execution_count": 1,
   "id": "13bfba1b",
   "metadata": {},
   "outputs": [
    {
     "name": "stdout",
     "output_type": "stream",
     "text": [
      "Versão da Linguagem Python Usada Neste Jupyter Notebook: 3.9.7\n"
     ]
    }
   ],
   "source": [
    "# Versão da Linguagem Python utilizado neste projeto\n",
    "from platform import python_version\n",
    "print('Versão da Linguagem Python Usada Neste Jupyter Notebook:', python_version())"
   ]
  },
  {
   "cell_type": "markdown",
   "id": "8b31838c",
   "metadata": {},
   "source": [
    "### 2.1-Carregando os Pacotes necessário para o projeto"
   ]
  },
  {
   "cell_type": "code",
   "execution_count": 2,
   "id": "5af469cb",
   "metadata": {},
   "outputs": [],
   "source": [
    "# Carregando as bibliotecas\n",
    "import numpy as np \n",
    "import pandas as pd\n",
    "import matplotlib.pyplot as plt\n",
    "import seaborn as sns\n",
    "\n",
    "import warnings\n",
    "warnings.filterwarnings(\"ignore\")"
   ]
  },
  {
   "cell_type": "code",
   "execution_count": 3,
   "id": "f1b050ac",
   "metadata": {},
   "outputs": [
    {
     "name": "stdout",
     "output_type": "stream",
     "text": [
      "Author: LCGentil\n",
      "\n",
      "matplotlib: 3.4.3\n",
      "seaborn   : 0.11.2\n",
      "pandas    : 1.3.4\n",
      "numpy     : 1.21.2\n",
      "\n"
     ]
    }
   ],
   "source": [
    "# Versão das bibliotecas utilizadas neste projeto\n",
    "%reload_ext watermark\n",
    "%watermark -a \"LCGentil\" --iversions"
   ]
  },
  {
   "cell_type": "code",
   "execution_count": 4,
   "id": "b60fec0d",
   "metadata": {},
   "outputs": [],
   "source": [
    "# Carregando Dados direto da Planilha Excel\n",
    "dados = pd.read_excel(\"dados/preco_gas_etanol_2023.xlsx\")"
   ]
  },
  {
   "cell_type": "markdown",
   "id": "b56acf55",
   "metadata": {},
   "source": [
    "### 2.2-Preparação dos Dados"
   ]
  },
  {
   "cell_type": "code",
   "execution_count": 5,
   "id": "3766fc63",
   "metadata": {},
   "outputs": [
    {
     "data": {
      "text/plain": [
       "(138275, 16)"
      ]
     },
     "execution_count": 5,
     "metadata": {},
     "output_type": "execute_result"
    }
   ],
   "source": [
    "# Verificando o Tamanho da Planilha (linhas x Colunas)\n",
    "dados.shape"
   ]
  },
  {
   "cell_type": "code",
   "execution_count": 6,
   "id": "f4bc5e62",
   "metadata": {},
   "outputs": [
    {
     "data": {
      "text/html": [
       "<div>\n",
       "<style scoped>\n",
       "    .dataframe tbody tr th:only-of-type {\n",
       "        vertical-align: middle;\n",
       "    }\n",
       "\n",
       "    .dataframe tbody tr th {\n",
       "        vertical-align: top;\n",
       "    }\n",
       "\n",
       "    .dataframe thead th {\n",
       "        text-align: right;\n",
       "    }\n",
       "</style>\n",
       "<table border=\"1\" class=\"dataframe\">\n",
       "  <thead>\n",
       "    <tr style=\"text-align: right;\">\n",
       "      <th></th>\n",
       "      <th>Regiao - Sigla</th>\n",
       "      <th>Estado - Sigla</th>\n",
       "      <th>Municipio</th>\n",
       "      <th>Revenda</th>\n",
       "      <th>CNPJ da Revenda</th>\n",
       "      <th>Nome da Rua</th>\n",
       "      <th>Numero Rua</th>\n",
       "      <th>Complemento</th>\n",
       "      <th>Bairro</th>\n",
       "      <th>Cep</th>\n",
       "      <th>Produto</th>\n",
       "      <th>Data da Coleta</th>\n",
       "      <th>Valor de Venda</th>\n",
       "      <th>Valor de Compra</th>\n",
       "      <th>Unidade de Medida</th>\n",
       "      <th>Bandeira</th>\n",
       "    </tr>\n",
       "  </thead>\n",
       "  <tbody>\n",
       "    <tr>\n",
       "      <th>0</th>\n",
       "      <td>NE</td>\n",
       "      <td>AL</td>\n",
       "      <td>ARAPIRACA</td>\n",
       "      <td>COMERCIAL DE COMBUSTIVEIS E LUBRIFICANTES VITA...</td>\n",
       "      <td>02.817.655/0001-82</td>\n",
       "      <td>RODOVIA AL 220 - KM 06</td>\n",
       "      <td>S/N</td>\n",
       "      <td>NaN</td>\n",
       "      <td>PLANALTO</td>\n",
       "      <td>57308-000</td>\n",
       "      <td>ETANOL</td>\n",
       "      <td>2023-01-02</td>\n",
       "      <td>3.89</td>\n",
       "      <td>NaN</td>\n",
       "      <td>R$ / litro</td>\n",
       "      <td>VIBRA ENERGIA</td>\n",
       "    </tr>\n",
       "    <tr>\n",
       "      <th>1</th>\n",
       "      <td>NE</td>\n",
       "      <td>AL</td>\n",
       "      <td>ARAPIRACA</td>\n",
       "      <td>COMERCIAL DE COMBUSTIVEIS E LUBRIFICANTES VITA...</td>\n",
       "      <td>02.817.655/0001-82</td>\n",
       "      <td>RODOVIA AL 220 - KM 06</td>\n",
       "      <td>S/N</td>\n",
       "      <td>NaN</td>\n",
       "      <td>PLANALTO</td>\n",
       "      <td>57308-000</td>\n",
       "      <td>GASOLINA ADITIVADA</td>\n",
       "      <td>2023-01-02</td>\n",
       "      <td>5.14</td>\n",
       "      <td>NaN</td>\n",
       "      <td>R$ / litro</td>\n",
       "      <td>VIBRA ENERGIA</td>\n",
       "    </tr>\n",
       "    <tr>\n",
       "      <th>2</th>\n",
       "      <td>NE</td>\n",
       "      <td>AL</td>\n",
       "      <td>ARAPIRACA</td>\n",
       "      <td>COMERCIAL DE COMBUSTIVEIS E LUBRIFICANTES VITA...</td>\n",
       "      <td>02.817.655/0001-82</td>\n",
       "      <td>RODOVIA AL 220 - KM 06</td>\n",
       "      <td>S/N</td>\n",
       "      <td>NaN</td>\n",
       "      <td>PLANALTO</td>\n",
       "      <td>57308-000</td>\n",
       "      <td>GASOLINA</td>\n",
       "      <td>2023-01-02</td>\n",
       "      <td>5.14</td>\n",
       "      <td>NaN</td>\n",
       "      <td>R$ / litro</td>\n",
       "      <td>VIBRA ENERGIA</td>\n",
       "    </tr>\n",
       "    <tr>\n",
       "      <th>3</th>\n",
       "      <td>NE</td>\n",
       "      <td>AL</td>\n",
       "      <td>ARAPIRACA</td>\n",
       "      <td>AUTO POSTO SAO FRANCISCO LTDA</td>\n",
       "      <td>12.706.529/0001-04</td>\n",
       "      <td>RUA SAO FRANCISCO</td>\n",
       "      <td>274</td>\n",
       "      <td>NaN</td>\n",
       "      <td>CENTRO</td>\n",
       "      <td>57300-080</td>\n",
       "      <td>ETANOL</td>\n",
       "      <td>2023-01-02</td>\n",
       "      <td>3.79</td>\n",
       "      <td>NaN</td>\n",
       "      <td>R$ / litro</td>\n",
       "      <td>VIBRA ENERGIA</td>\n",
       "    </tr>\n",
       "    <tr>\n",
       "      <th>4</th>\n",
       "      <td>NE</td>\n",
       "      <td>AL</td>\n",
       "      <td>ARAPIRACA</td>\n",
       "      <td>AUTO POSTO SAO FRANCISCO LTDA</td>\n",
       "      <td>12.706.529/0001-04</td>\n",
       "      <td>RUA SAO FRANCISCO</td>\n",
       "      <td>274</td>\n",
       "      <td>NaN</td>\n",
       "      <td>CENTRO</td>\n",
       "      <td>57300-080</td>\n",
       "      <td>GASOLINA</td>\n",
       "      <td>2023-01-02</td>\n",
       "      <td>5.29</td>\n",
       "      <td>NaN</td>\n",
       "      <td>R$ / litro</td>\n",
       "      <td>VIBRA ENERGIA</td>\n",
       "    </tr>\n",
       "  </tbody>\n",
       "</table>\n",
       "</div>"
      ],
      "text/plain": [
       "  Regiao - Sigla Estado - Sigla  Municipio  \\\n",
       "0             NE             AL  ARAPIRACA   \n",
       "1             NE             AL  ARAPIRACA   \n",
       "2             NE             AL  ARAPIRACA   \n",
       "3             NE             AL  ARAPIRACA   \n",
       "4             NE             AL  ARAPIRACA   \n",
       "\n",
       "                                             Revenda      CNPJ da Revenda  \\\n",
       "0  COMERCIAL DE COMBUSTIVEIS E LUBRIFICANTES VITA...   02.817.655/0001-82   \n",
       "1  COMERCIAL DE COMBUSTIVEIS E LUBRIFICANTES VITA...   02.817.655/0001-82   \n",
       "2  COMERCIAL DE COMBUSTIVEIS E LUBRIFICANTES VITA...   02.817.655/0001-82   \n",
       "3                      AUTO POSTO SAO FRANCISCO LTDA   12.706.529/0001-04   \n",
       "4                      AUTO POSTO SAO FRANCISCO LTDA   12.706.529/0001-04   \n",
       "\n",
       "              Nome da Rua Numero Rua Complemento    Bairro        Cep  \\\n",
       "0  RODOVIA AL 220 - KM 06        S/N         NaN  PLANALTO  57308-000   \n",
       "1  RODOVIA AL 220 - KM 06        S/N         NaN  PLANALTO  57308-000   \n",
       "2  RODOVIA AL 220 - KM 06        S/N         NaN  PLANALTO  57308-000   \n",
       "3       RUA SAO FRANCISCO        274         NaN    CENTRO  57300-080   \n",
       "4       RUA SAO FRANCISCO        274         NaN    CENTRO  57300-080   \n",
       "\n",
       "              Produto Data da Coleta  Valor de Venda  Valor de Compra  \\\n",
       "0              ETANOL     2023-01-02            3.89              NaN   \n",
       "1  GASOLINA ADITIVADA     2023-01-02            5.14              NaN   \n",
       "2            GASOLINA     2023-01-02            5.14              NaN   \n",
       "3              ETANOL     2023-01-02            3.79              NaN   \n",
       "4            GASOLINA     2023-01-02            5.29              NaN   \n",
       "\n",
       "  Unidade de Medida       Bandeira  \n",
       "0        R$ / litro  VIBRA ENERGIA  \n",
       "1        R$ / litro  VIBRA ENERGIA  \n",
       "2        R$ / litro  VIBRA ENERGIA  \n",
       "3        R$ / litro  VIBRA ENERGIA  \n",
       "4        R$ / litro  VIBRA ENERGIA  "
      ]
     },
     "execution_count": 6,
     "metadata": {},
     "output_type": "execute_result"
    }
   ],
   "source": [
    "# Amostra de dados\n",
    "dados.head()"
   ]
  },
  {
   "cell_type": "code",
   "execution_count": 7,
   "id": "3a0171ea",
   "metadata": {},
   "outputs": [
    {
     "data": {
      "text/plain": [
       "0"
      ]
     },
     "execution_count": 7,
     "metadata": {},
     "output_type": "execute_result"
    }
   ],
   "source": [
    "# Verificando registros duplicados\n",
    "dados.duplicated().sum()"
   ]
  },
  {
   "cell_type": "markdown",
   "id": "5035be96",
   "metadata": {},
   "source": [
    "> Não há registros duplicados neste conjunto de dados."
   ]
  },
  {
   "cell_type": "code",
   "execution_count": 8,
   "id": "a711c258",
   "metadata": {},
   "outputs": [],
   "source": [
    "# Excluir colunas que não contribuem para a análise\n",
    "dados_tmp = dados.drop(['Revenda','CNPJ da Revenda','Nome da Rua','Numero Rua','Complemento','Cep','Bandeira'],axis =1)"
   ]
  },
  {
   "cell_type": "markdown",
   "id": "c80a655f",
   "metadata": {},
   "source": [
    "> Remoção das colunas que contenham informações referentes a identificação e endereço, pois não serão utilizadas na análise, além de deixar o dataset mais leve para executar os scripts."
   ]
  },
  {
   "cell_type": "code",
   "execution_count": 9,
   "id": "61c1fa23",
   "metadata": {},
   "outputs": [
    {
     "data": {
      "text/plain": [
       "(138275, 9)"
      ]
     },
     "execution_count": 9,
     "metadata": {},
     "output_type": "execute_result"
    }
   ],
   "source": [
    "# Confirmando a remoção de 7 colunas\n",
    "dados_tmp.shape"
   ]
  },
  {
   "cell_type": "code",
   "execution_count": 10,
   "id": "a88f80ec",
   "metadata": {},
   "outputs": [
    {
     "data": {
      "text/html": [
       "<div>\n",
       "<style scoped>\n",
       "    .dataframe tbody tr th:only-of-type {\n",
       "        vertical-align: middle;\n",
       "    }\n",
       "\n",
       "    .dataframe tbody tr th {\n",
       "        vertical-align: top;\n",
       "    }\n",
       "\n",
       "    .dataframe thead th {\n",
       "        text-align: right;\n",
       "    }\n",
       "</style>\n",
       "<table border=\"1\" class=\"dataframe\">\n",
       "  <thead>\n",
       "    <tr style=\"text-align: right;\">\n",
       "      <th></th>\n",
       "      <th>Regiao</th>\n",
       "      <th>Estado</th>\n",
       "      <th>Municipio</th>\n",
       "      <th>Bairro</th>\n",
       "      <th>Produto</th>\n",
       "      <th>Data_Coleta</th>\n",
       "      <th>Valor_Venda</th>\n",
       "      <th>Valor_Compra</th>\n",
       "      <th>Unidade_Medida</th>\n",
       "    </tr>\n",
       "  </thead>\n",
       "  <tbody>\n",
       "    <tr>\n",
       "      <th>0</th>\n",
       "      <td>NE</td>\n",
       "      <td>AL</td>\n",
       "      <td>ARAPIRACA</td>\n",
       "      <td>PLANALTO</td>\n",
       "      <td>ETANOL</td>\n",
       "      <td>2023-01-02</td>\n",
       "      <td>3.89</td>\n",
       "      <td>NaN</td>\n",
       "      <td>R$ / litro</td>\n",
       "    </tr>\n",
       "    <tr>\n",
       "      <th>1</th>\n",
       "      <td>NE</td>\n",
       "      <td>AL</td>\n",
       "      <td>ARAPIRACA</td>\n",
       "      <td>PLANALTO</td>\n",
       "      <td>GASOLINA ADITIVADA</td>\n",
       "      <td>2023-01-02</td>\n",
       "      <td>5.14</td>\n",
       "      <td>NaN</td>\n",
       "      <td>R$ / litro</td>\n",
       "    </tr>\n",
       "    <tr>\n",
       "      <th>2</th>\n",
       "      <td>NE</td>\n",
       "      <td>AL</td>\n",
       "      <td>ARAPIRACA</td>\n",
       "      <td>PLANALTO</td>\n",
       "      <td>GASOLINA</td>\n",
       "      <td>2023-01-02</td>\n",
       "      <td>5.14</td>\n",
       "      <td>NaN</td>\n",
       "      <td>R$ / litro</td>\n",
       "    </tr>\n",
       "    <tr>\n",
       "      <th>3</th>\n",
       "      <td>NE</td>\n",
       "      <td>AL</td>\n",
       "      <td>ARAPIRACA</td>\n",
       "      <td>CENTRO</td>\n",
       "      <td>ETANOL</td>\n",
       "      <td>2023-01-02</td>\n",
       "      <td>3.79</td>\n",
       "      <td>NaN</td>\n",
       "      <td>R$ / litro</td>\n",
       "    </tr>\n",
       "    <tr>\n",
       "      <th>4</th>\n",
       "      <td>NE</td>\n",
       "      <td>AL</td>\n",
       "      <td>ARAPIRACA</td>\n",
       "      <td>CENTRO</td>\n",
       "      <td>GASOLINA</td>\n",
       "      <td>2023-01-02</td>\n",
       "      <td>5.29</td>\n",
       "      <td>NaN</td>\n",
       "      <td>R$ / litro</td>\n",
       "    </tr>\n",
       "  </tbody>\n",
       "</table>\n",
       "</div>"
      ],
      "text/plain": [
       "  Regiao Estado  Municipio    Bairro             Produto Data_Coleta  \\\n",
       "0     NE     AL  ARAPIRACA  PLANALTO              ETANOL  2023-01-02   \n",
       "1     NE     AL  ARAPIRACA  PLANALTO  GASOLINA ADITIVADA  2023-01-02   \n",
       "2     NE     AL  ARAPIRACA  PLANALTO            GASOLINA  2023-01-02   \n",
       "3     NE     AL  ARAPIRACA    CENTRO              ETANOL  2023-01-02   \n",
       "4     NE     AL  ARAPIRACA    CENTRO            GASOLINA  2023-01-02   \n",
       "\n",
       "   Valor_Venda  Valor_Compra Unidade_Medida  \n",
       "0         3.89           NaN     R$ / litro  \n",
       "1         5.14           NaN     R$ / litro  \n",
       "2         5.14           NaN     R$ / litro  \n",
       "3         3.79           NaN     R$ / litro  \n",
       "4         5.29           NaN     R$ / litro  "
      ]
     },
     "execution_count": 10,
     "metadata": {},
     "output_type": "execute_result"
    }
   ],
   "source": [
    "# Renomear algumas colunas para evitar erros\n",
    "dados_tmp.rename(columns = {\n",
    "    'Regiao - Sigla':'Regiao', \n",
    "    'Estado - Sigla':'Estado',\n",
    "    'Data da Coleta':'Data_Coleta', \n",
    "    'Valor de Venda':'Valor_Venda',\n",
    "    'Valor de Compra': 'Valor_Compra',\n",
    "    'Unidade de Medida':'Unidade_Medida'}, inplace = 1) \n",
    "dados_tmp.head()"
   ]
  },
  {
   "cell_type": "code",
   "execution_count": 11,
   "id": "fb49bae9",
   "metadata": {},
   "outputs": [
    {
     "data": {
      "text/plain": [
       "Regiao            138275\n",
       "Estado            138275\n",
       "Municipio         138275\n",
       "Bairro            137959\n",
       "Produto           138275\n",
       "Data_Coleta       138275\n",
       "Valor_Venda       138275\n",
       "Valor_Compra           0\n",
       "Unidade_Medida    138275\n",
       "dtype: int64"
      ]
     },
     "execution_count": 11,
     "metadata": {},
     "output_type": "execute_result"
    }
   ],
   "source": [
    "# Verificando a quantidade de registros por coluna\n",
    "dados_tmp.count()"
   ]
  },
  {
   "cell_type": "code",
   "execution_count": 12,
   "id": "a225357f",
   "metadata": {},
   "outputs": [
    {
     "data": {
      "text/html": [
       "<div>\n",
       "<style scoped>\n",
       "    .dataframe tbody tr th:only-of-type {\n",
       "        vertical-align: middle;\n",
       "    }\n",
       "\n",
       "    .dataframe tbody tr th {\n",
       "        vertical-align: top;\n",
       "    }\n",
       "\n",
       "    .dataframe thead th {\n",
       "        text-align: right;\n",
       "    }\n",
       "</style>\n",
       "<table border=\"1\" class=\"dataframe\">\n",
       "  <thead>\n",
       "    <tr style=\"text-align: right;\">\n",
       "      <th></th>\n",
       "      <th>Regiao</th>\n",
       "      <th>Estado</th>\n",
       "      <th>Municipio</th>\n",
       "      <th>Bairro</th>\n",
       "      <th>Data_Coleta</th>\n",
       "      <th>Valor_Venda</th>\n",
       "      <th>Valor_Compra</th>\n",
       "      <th>Unidade_Medida</th>\n",
       "    </tr>\n",
       "    <tr>\n",
       "      <th>Produto</th>\n",
       "      <th></th>\n",
       "      <th></th>\n",
       "      <th></th>\n",
       "      <th></th>\n",
       "      <th></th>\n",
       "      <th></th>\n",
       "      <th></th>\n",
       "      <th></th>\n",
       "    </tr>\n",
       "  </thead>\n",
       "  <tbody>\n",
       "    <tr>\n",
       "      <th>ETANOL</th>\n",
       "      <td>45133</td>\n",
       "      <td>45133</td>\n",
       "      <td>45133</td>\n",
       "      <td>45036</td>\n",
       "      <td>45133</td>\n",
       "      <td>45133</td>\n",
       "      <td>0</td>\n",
       "      <td>45133</td>\n",
       "    </tr>\n",
       "    <tr>\n",
       "      <th>GASOLINA</th>\n",
       "      <td>52257</td>\n",
       "      <td>52257</td>\n",
       "      <td>52257</td>\n",
       "      <td>52130</td>\n",
       "      <td>52257</td>\n",
       "      <td>52257</td>\n",
       "      <td>0</td>\n",
       "      <td>52257</td>\n",
       "    </tr>\n",
       "    <tr>\n",
       "      <th>GASOLINA ADITIVADA</th>\n",
       "      <td>40885</td>\n",
       "      <td>40885</td>\n",
       "      <td>40885</td>\n",
       "      <td>40793</td>\n",
       "      <td>40885</td>\n",
       "      <td>40885</td>\n",
       "      <td>0</td>\n",
       "      <td>40885</td>\n",
       "    </tr>\n",
       "  </tbody>\n",
       "</table>\n",
       "</div>"
      ],
      "text/plain": [
       "                    Regiao  Estado  Municipio  Bairro  Data_Coleta  \\\n",
       "Produto                                                              \n",
       "ETANOL               45133   45133      45133   45036        45133   \n",
       "GASOLINA             52257   52257      52257   52130        52257   \n",
       "GASOLINA ADITIVADA   40885   40885      40885   40793        40885   \n",
       "\n",
       "                    Valor_Venda  Valor_Compra  Unidade_Medida  \n",
       "Produto                                                        \n",
       "ETANOL                    45133             0           45133  \n",
       "GASOLINA                  52257             0           52257  \n",
       "GASOLINA ADITIVADA        40885             0           40885  "
      ]
     },
     "execution_count": 12,
     "metadata": {},
     "output_type": "execute_result"
    }
   ],
   "source": [
    "# Verificando a quantidade de resgistros por Produto antes do processamento dos dados\n",
    "dados_tmp.groupby('Produto').count()"
   ]
  },
  {
   "cell_type": "markdown",
   "id": "fe151873",
   "metadata": {},
   "source": [
    "> Podemos constatar alterações nas colunas **Bairro** e **Valor_Compra**"
   ]
  },
  {
   "cell_type": "markdown",
   "id": "bf6a487c",
   "metadata": {},
   "source": [
    "## 3-Análise Exploratória dos Dados"
   ]
  },
  {
   "cell_type": "markdown",
   "id": "bbab1636",
   "metadata": {},
   "source": [
    "### 3.1-Análise descritiva inicial"
   ]
  },
  {
   "cell_type": "code",
   "execution_count": 13,
   "id": "9e74337d",
   "metadata": {},
   "outputs": [
    {
     "name": "stdout",
     "output_type": "stream",
     "text": [
      "<class 'pandas.core.frame.DataFrame'>\n",
      "RangeIndex: 138275 entries, 0 to 138274\n",
      "Data columns (total 9 columns):\n",
      " #   Column          Non-Null Count   Dtype         \n",
      "---  ------          --------------   -----         \n",
      " 0   Regiao          138275 non-null  object        \n",
      " 1   Estado          138275 non-null  object        \n",
      " 2   Municipio       138275 non-null  object        \n",
      " 3   Bairro          137959 non-null  object        \n",
      " 4   Produto         138275 non-null  object        \n",
      " 5   Data_Coleta     138275 non-null  datetime64[ns]\n",
      " 6   Valor_Venda     138275 non-null  float64       \n",
      " 7   Valor_Compra    0 non-null       float64       \n",
      " 8   Unidade_Medida  138275 non-null  object        \n",
      "dtypes: datetime64[ns](1), float64(2), object(6)\n",
      "memory usage: 9.5+ MB\n"
     ]
    }
   ],
   "source": [
    "# Resumo de informções do dataset\n",
    "dados_tmp.info()"
   ]
  },
  {
   "cell_type": "markdown",
   "id": "f98ba63f",
   "metadata": {},
   "source": [
    "> Temos a informação de que o dataset é composto por variávies do tipo data,  categórica e númerica do tipo float.<br>\n",
    "> Podemos identificar também que há uma anormalidade nas colunas **Bairro** e **Valor_Compra**, pois ambas possuem número de registros inferior ao número total de linhas (138.275) "
   ]
  },
  {
   "cell_type": "code",
   "execution_count": 14,
   "id": "f8af1fb6",
   "metadata": {},
   "outputs": [
    {
     "data": {
      "text/plain": [
       "Regiao                 0\n",
       "Estado                 0\n",
       "Municipio              0\n",
       "Bairro               316\n",
       "Produto                0\n",
       "Data_Coleta            0\n",
       "Valor_Venda            0\n",
       "Valor_Compra      138275\n",
       "Unidade_Medida         0\n",
       "dtype: int64"
      ]
     },
     "execution_count": 14,
     "metadata": {},
     "output_type": "execute_result"
    }
   ],
   "source": [
    "# Verificação do total de valores ausentes\n",
    "dados_tmp.isna().sum()"
   ]
  },
  {
   "cell_type": "code",
   "execution_count": 15,
   "id": "8e061c3b",
   "metadata": {},
   "outputs": [
    {
     "data": {
      "text/plain": [
       "Regiao              0.00\n",
       "Estado              0.00\n",
       "Municipio           0.00\n",
       "Bairro              0.23\n",
       "Produto             0.00\n",
       "Data_Coleta         0.00\n",
       "Valor_Venda         0.00\n",
       "Valor_Compra      100.00\n",
       "Unidade_Medida      0.00\n",
       "dtype: float64"
      ]
     },
     "execution_count": 15,
     "metadata": {},
     "output_type": "execute_result"
    }
   ],
   "source": [
    "# Verificação da Porcentagem de valores ausentes\n",
    "round(dados_tmp.isnull().mean()*100,2)"
   ]
  },
  {
   "cell_type": "markdown",
   "id": "1d51c784",
   "metadata": {},
   "source": [
    "> Foi identificado, que tanto a coluna **Bairro** quanto a coluna **Valor_Compra** possuem **valores ausentes** e que ambas deverão ser tratadas para não causar impacto no relatório final.<br>\n",
    "> Porém já podemos definir que a coluna **Valor_Compra** deverá ser descartada, pois possui 100% de **valores ausentes**."
   ]
  },
  {
   "cell_type": "code",
   "execution_count": 16,
   "id": "3a23a372",
   "metadata": {},
   "outputs": [
    {
     "name": "stdout",
     "output_type": "stream",
     "text": [
      "\n",
      "\n",
      "Regiao: 5 valores únicos\n",
      "['NE' 'SE' 'N' 'CO' 'S']\n",
      "\n",
      "\n",
      "Estado: 27 valores únicos\n",
      "\n",
      "\n",
      "Municipio: 427 valores únicos\n",
      "\n",
      "\n",
      "Bairro: 3724 valores únicos\n",
      "\n",
      "\n",
      "Produto: 3 valores únicos\n",
      "['ETANOL' 'GASOLINA ADITIVADA' 'GASOLINA']\n",
      "\n",
      "\n",
      "Data_Coleta: 64 valores únicos\n",
      "\n",
      "\n",
      "Valor_Venda: 386 valores únicos\n",
      "\n",
      "\n",
      "Valor_Compra: 1 valores únicos\n",
      "[nan]\n",
      "\n",
      "\n",
      "Unidade_Medida: 1 valores únicos\n",
      "['R$ / litro']\n"
     ]
    }
   ],
   "source": [
    "# Verificando valores únicos\n",
    "for col in list(dados_tmp.columns):\n",
    "    \n",
    "    # Obtém uma lista de valores únicos\n",
    "    list_of_unique_values = dados_tmp[col].unique()\n",
    "    \n",
    "    # Se o número de valores exclusivos for menor que 15, imprima os valores.  \n",
    "    if len(list_of_unique_values) < 15:\n",
    "        print(\"\\n\")\n",
    "        print(col + ': ' + str(len(list_of_unique_values)) + ' valores únicos')\n",
    "        print(list_of_unique_values)\n",
    "    else:\n",
    "        print(\"\\n\")\n",
    "        print(col + ': ' + str(len(list_of_unique_values)) + ' valores únicos')"
   ]
  },
  {
   "cell_type": "markdown",
   "id": "43868a62",
   "metadata": {},
   "source": [
    "> Podemos constatar que ambas as colunas **Valor_Compra** e **Unidade_Medida** possuem somente uma categoria cada.<br>\n",
    ">* No caso da coluna **Unidade_Medida** todos os registros desta coluna possuem a mesma informação (\"R$ / litro\").<br>\n",
    ">* No caso da coluna **Valor_Compra** podemos comprovar novamente que os registros estão todos vazios (\"NaN\").<br>"
   ]
  },
  {
   "cell_type": "code",
   "execution_count": 17,
   "id": "d0f5a188",
   "metadata": {},
   "outputs": [
    {
     "data": {
      "text/html": [
       "<div>\n",
       "<style scoped>\n",
       "    .dataframe tbody tr th:only-of-type {\n",
       "        vertical-align: middle;\n",
       "    }\n",
       "\n",
       "    .dataframe tbody tr th {\n",
       "        vertical-align: top;\n",
       "    }\n",
       "\n",
       "    .dataframe thead th {\n",
       "        text-align: right;\n",
       "    }\n",
       "</style>\n",
       "<table border=\"1\" class=\"dataframe\">\n",
       "  <thead>\n",
       "    <tr style=\"text-align: right;\">\n",
       "      <th></th>\n",
       "      <th>Regiao</th>\n",
       "      <th>Estado</th>\n",
       "      <th>Municipio</th>\n",
       "      <th>Bairro</th>\n",
       "      <th>Produto</th>\n",
       "      <th>Data_Coleta</th>\n",
       "      <th>Valor_Venda</th>\n",
       "      <th>Valor_Compra</th>\n",
       "      <th>Unidade_Medida</th>\n",
       "    </tr>\n",
       "  </thead>\n",
       "  <tbody>\n",
       "  </tbody>\n",
       "</table>\n",
       "</div>"
      ],
      "text/plain": [
       "Empty DataFrame\n",
       "Columns: [Regiao, Estado, Municipio, Bairro, Produto, Data_Coleta, Valor_Venda, Valor_Compra, Unidade_Medida]\n",
       "Index: []"
      ]
     },
     "execution_count": 17,
     "metadata": {},
     "output_type": "execute_result"
    }
   ],
   "source": [
    "# Verificando se a coluna Valor_Venda possui Preço igual a Zero\n",
    "dados_tmp.loc[dados_tmp.Valor_Venda == 0]"
   ]
  },
  {
   "cell_type": "markdown",
   "id": "be9d993c",
   "metadata": {},
   "source": [
    "> A coluna **Valor_Venda** não possui nenhum registro com valor zero"
   ]
  },
  {
   "cell_type": "markdown",
   "id": "8fa3a35c",
   "metadata": {},
   "source": [
    "### 3.2-Verificação de Valores Outliers"
   ]
  },
  {
   "cell_type": "markdown",
   "id": "3d3bd9ba",
   "metadata": {},
   "source": [
    " #### 3.2a-Análise de Outliers da Coluna Valor_Venda"
   ]
  },
  {
   "cell_type": "code",
   "execution_count": 18,
   "id": "c9edf165",
   "metadata": {},
   "outputs": [
    {
     "data": {
      "image/png": "[encoded data removed]",
      "text/plain": [
       "<Figure size 432x288 with 1 Axes>"
      ]
     },
     "metadata": {
      "needs_background": "light"
     },
     "output_type": "display_data"
    }
   ],
   "source": [
    "# Verificação de valores outliers da coluna Valor_Venda \n",
    "sns.boxplot(dados_tmp.Valor_Venda)\n",
    "plt.title(\"Distribuição dos Preços dos Combustíveis\\n\")\n",
    "plt.show()"
   ]
  },
  {
   "cell_type": "markdown",
   "id": "28cd9d4b",
   "metadata": {},
   "source": [
    "> Podemos constatar a existência de valores outliers na coluna **Valor_Venda**!<br> \n",
    "Então será realizada uma análise de forma independente para cada produto (Etanol, Gasolina e Gasolina Aditivada), afim de verificar a distribuição dos preços e se os outliers irão precisar ser tratados. "
   ]
  },
  {
   "cell_type": "markdown",
   "id": "bf85cb0d",
   "metadata": {},
   "source": [
    " #### 3.2b-Análise de Outliers do Produto Etanol"
   ]
  },
  {
   "cell_type": "code",
   "execution_count": 19,
   "id": "69517302",
   "metadata": {},
   "outputs": [
    {
     "data": {
      "text/html": [
       "<div>\n",
       "<style scoped>\n",
       "    .dataframe tbody tr th:only-of-type {\n",
       "        vertical-align: middle;\n",
       "    }\n",
       "\n",
       "    .dataframe tbody tr th {\n",
       "        vertical-align: top;\n",
       "    }\n",
       "\n",
       "    .dataframe thead th {\n",
       "        text-align: right;\n",
       "    }\n",
       "</style>\n",
       "<table border=\"1\" class=\"dataframe\">\n",
       "  <thead>\n",
       "    <tr style=\"text-align: right;\">\n",
       "      <th></th>\n",
       "      <th>Regiao</th>\n",
       "      <th>Estado</th>\n",
       "      <th>Municipio</th>\n",
       "      <th>Bairro</th>\n",
       "      <th>Produto</th>\n",
       "      <th>Data_Coleta</th>\n",
       "      <th>Valor_Venda</th>\n",
       "      <th>Valor_Compra</th>\n",
       "      <th>Unidade_Medida</th>\n",
       "    </tr>\n",
       "  </thead>\n",
       "  <tbody>\n",
       "    <tr>\n",
       "      <th>0</th>\n",
       "      <td>NE</td>\n",
       "      <td>AL</td>\n",
       "      <td>ARAPIRACA</td>\n",
       "      <td>PLANALTO</td>\n",
       "      <td>ETANOL</td>\n",
       "      <td>2023-01-02</td>\n",
       "      <td>3.89</td>\n",
       "      <td>NaN</td>\n",
       "      <td>R$ / litro</td>\n",
       "    </tr>\n",
       "    <tr>\n",
       "      <th>3</th>\n",
       "      <td>NE</td>\n",
       "      <td>AL</td>\n",
       "      <td>ARAPIRACA</td>\n",
       "      <td>CENTRO</td>\n",
       "      <td>ETANOL</td>\n",
       "      <td>2023-01-02</td>\n",
       "      <td>3.79</td>\n",
       "      <td>NaN</td>\n",
       "      <td>R$ / litro</td>\n",
       "    </tr>\n",
       "    <tr>\n",
       "      <th>5</th>\n",
       "      <td>NE</td>\n",
       "      <td>AL</td>\n",
       "      <td>ARAPIRACA</td>\n",
       "      <td>CANAFISTULA</td>\n",
       "      <td>ETANOL</td>\n",
       "      <td>2023-01-02</td>\n",
       "      <td>4.19</td>\n",
       "      <td>NaN</td>\n",
       "      <td>R$ / litro</td>\n",
       "    </tr>\n",
       "    <tr>\n",
       "      <th>8</th>\n",
       "      <td>NE</td>\n",
       "      <td>AL</td>\n",
       "      <td>ARAPIRACA</td>\n",
       "      <td>JARDIM ESPERANCA</td>\n",
       "      <td>ETANOL</td>\n",
       "      <td>2023-01-02</td>\n",
       "      <td>4.49</td>\n",
       "      <td>NaN</td>\n",
       "      <td>R$ / litro</td>\n",
       "    </tr>\n",
       "    <tr>\n",
       "      <th>11</th>\n",
       "      <td>SE</td>\n",
       "      <td>ES</td>\n",
       "      <td>VILA VELHA</td>\n",
       "      <td>DIVINO ESPIRITO SANTO</td>\n",
       "      <td>ETANOL</td>\n",
       "      <td>2023-01-02</td>\n",
       "      <td>4.19</td>\n",
       "      <td>NaN</td>\n",
       "      <td>R$ / litro</td>\n",
       "    </tr>\n",
       "  </tbody>\n",
       "</table>\n",
       "</div>"
      ],
      "text/plain": [
       "   Regiao Estado   Municipio                 Bairro Produto Data_Coleta  \\\n",
       "0      NE     AL   ARAPIRACA               PLANALTO  ETANOL  2023-01-02   \n",
       "3      NE     AL   ARAPIRACA                 CENTRO  ETANOL  2023-01-02   \n",
       "5      NE     AL   ARAPIRACA            CANAFISTULA  ETANOL  2023-01-02   \n",
       "8      NE     AL   ARAPIRACA       JARDIM ESPERANCA  ETANOL  2023-01-02   \n",
       "11     SE     ES  VILA VELHA  DIVINO ESPIRITO SANTO  ETANOL  2023-01-02   \n",
       "\n",
       "    Valor_Venda  Valor_Compra Unidade_Medida  \n",
       "0          3.89           NaN     R$ / litro  \n",
       "3          3.79           NaN     R$ / litro  \n",
       "5          4.19           NaN     R$ / litro  \n",
       "8          4.49           NaN     R$ / litro  \n",
       "11         4.19           NaN     R$ / litro  "
      ]
     },
     "execution_count": 19,
     "metadata": {},
     "output_type": "execute_result"
    }
   ],
   "source": [
    "# Criar um dataframe temporário somente com Produto Etanol\n",
    "df_etanol = dados_tmp.loc[dados_tmp.Produto == 'ETANOL']\n",
    "df_etanol.head()"
   ]
  },
  {
   "cell_type": "code",
   "execution_count": 20,
   "id": "7da89b27",
   "metadata": {},
   "outputs": [
    {
     "data": {
      "image/png": "[encoded data removed]",
      "text/plain": [
       "<Figure size 432x288 with 1 Axes>"
      ]
     },
     "metadata": {
      "needs_background": "light"
     },
     "output_type": "display_data"
    }
   ],
   "source": [
    "# Verificação de valores outliers do Produto Etanol\n",
    "sns.boxplot(df_etanol.Valor_Venda)\n",
    "plt.title(\"Distribuição dos Preços do Etanol\\n\")\n",
    "plt.show()"
   ]
  },
  {
   "cell_type": "code",
   "execution_count": 21,
   "id": "1d39acbb",
   "metadata": {},
   "outputs": [
    {
     "data": {
      "text/html": [
       "<div>\n",
       "<style scoped>\n",
       "    .dataframe tbody tr th:only-of-type {\n",
       "        vertical-align: middle;\n",
       "    }\n",
       "\n",
       "    .dataframe tbody tr th {\n",
       "        vertical-align: top;\n",
       "    }\n",
       "\n",
       "    .dataframe thead th {\n",
       "        text-align: right;\n",
       "    }\n",
       "</style>\n",
       "<table border=\"1\" class=\"dataframe\">\n",
       "  <thead>\n",
       "    <tr style=\"text-align: right;\">\n",
       "      <th></th>\n",
       "      <th>Regiao</th>\n",
       "      <th>Estado</th>\n",
       "      <th>Municipio</th>\n",
       "      <th>Bairro</th>\n",
       "      <th>Produto</th>\n",
       "      <th>Data_Coleta</th>\n",
       "      <th>Valor_Venda</th>\n",
       "      <th>Valor_Compra</th>\n",
       "      <th>Unidade_Medida</th>\n",
       "    </tr>\n",
       "  </thead>\n",
       "  <tbody>\n",
       "    <tr>\n",
       "      <th>88928</th>\n",
       "      <td>N</td>\n",
       "      <td>RO</td>\n",
       "      <td>PIMENTA BUENO</td>\n",
       "      <td>BEIRA RIO</td>\n",
       "      <td>ETANOL</td>\n",
       "      <td>2023-02-28</td>\n",
       "      <td>6.96</td>\n",
       "      <td>NaN</td>\n",
       "      <td>R$ / litro</td>\n",
       "    </tr>\n",
       "    <tr>\n",
       "      <th>79277</th>\n",
       "      <td>SE</td>\n",
       "      <td>MG</td>\n",
       "      <td>DIVINOPOLIS</td>\n",
       "      <td>CENTRO</td>\n",
       "      <td>ETANOL</td>\n",
       "      <td>2023-02-22</td>\n",
       "      <td>6.77</td>\n",
       "      <td>NaN</td>\n",
       "      <td>R$ / litro</td>\n",
       "    </tr>\n",
       "    <tr>\n",
       "      <th>26037</th>\n",
       "      <td>S</td>\n",
       "      <td>RS</td>\n",
       "      <td>PASSO FUNDO</td>\n",
       "      <td>CENTRO</td>\n",
       "      <td>ETANOL</td>\n",
       "      <td>2023-01-18</td>\n",
       "      <td>6.57</td>\n",
       "      <td>NaN</td>\n",
       "      <td>R$ / litro</td>\n",
       "    </tr>\n",
       "    <tr>\n",
       "      <th>29669</th>\n",
       "      <td>S</td>\n",
       "      <td>RS</td>\n",
       "      <td>PASSO FUNDO</td>\n",
       "      <td>CENTRO</td>\n",
       "      <td>ETANOL</td>\n",
       "      <td>2023-01-23</td>\n",
       "      <td>6.57</td>\n",
       "      <td>NaN</td>\n",
       "      <td>R$ / litro</td>\n",
       "    </tr>\n",
       "    <tr>\n",
       "      <th>75067</th>\n",
       "      <td>S</td>\n",
       "      <td>RS</td>\n",
       "      <td>PASSO FUNDO</td>\n",
       "      <td>CENTRO</td>\n",
       "      <td>ETANOL</td>\n",
       "      <td>2023-02-21</td>\n",
       "      <td>6.57</td>\n",
       "      <td>NaN</td>\n",
       "      <td>R$ / litro</td>\n",
       "    </tr>\n",
       "    <tr>\n",
       "      <th>90093</th>\n",
       "      <td>S</td>\n",
       "      <td>RS</td>\n",
       "      <td>PASSO FUNDO</td>\n",
       "      <td>CENTRO</td>\n",
       "      <td>ETANOL</td>\n",
       "      <td>2023-03-01</td>\n",
       "      <td>6.57</td>\n",
       "      <td>NaN</td>\n",
       "      <td>R$ / litro</td>\n",
       "    </tr>\n",
       "    <tr>\n",
       "      <th>97850</th>\n",
       "      <td>S</td>\n",
       "      <td>RS</td>\n",
       "      <td>PASSO FUNDO</td>\n",
       "      <td>CENTRO</td>\n",
       "      <td>ETANOL</td>\n",
       "      <td>2023-03-07</td>\n",
       "      <td>6.57</td>\n",
       "      <td>NaN</td>\n",
       "      <td>R$ / litro</td>\n",
       "    </tr>\n",
       "    <tr>\n",
       "      <th>105077</th>\n",
       "      <td>S</td>\n",
       "      <td>RS</td>\n",
       "      <td>PASSO FUNDO</td>\n",
       "      <td>CENTRO</td>\n",
       "      <td>ETANOL</td>\n",
       "      <td>2023-03-13</td>\n",
       "      <td>6.57</td>\n",
       "      <td>NaN</td>\n",
       "      <td>R$ / litro</td>\n",
       "    </tr>\n",
       "    <tr>\n",
       "      <th>102439</th>\n",
       "      <td>NE</td>\n",
       "      <td>AL</td>\n",
       "      <td>DELMIRO GOUVEIA</td>\n",
       "      <td>CENTRO</td>\n",
       "      <td>ETANOL</td>\n",
       "      <td>2023-03-08</td>\n",
       "      <td>6.50</td>\n",
       "      <td>NaN</td>\n",
       "      <td>R$ / litro</td>\n",
       "    </tr>\n",
       "    <tr>\n",
       "      <th>107390</th>\n",
       "      <td>NE</td>\n",
       "      <td>AL</td>\n",
       "      <td>DELMIRO GOUVEIA</td>\n",
       "      <td>CENTRO</td>\n",
       "      <td>ETANOL</td>\n",
       "      <td>2023-03-13</td>\n",
       "      <td>6.50</td>\n",
       "      <td>NaN</td>\n",
       "      <td>R$ / litro</td>\n",
       "    </tr>\n",
       "    <tr>\n",
       "      <th>118472</th>\n",
       "      <td>NE</td>\n",
       "      <td>AL</td>\n",
       "      <td>DELMIRO GOUVEIA</td>\n",
       "      <td>CENTRO</td>\n",
       "      <td>ETANOL</td>\n",
       "      <td>2023-03-20</td>\n",
       "      <td>6.50</td>\n",
       "      <td>NaN</td>\n",
       "      <td>R$ / litro</td>\n",
       "    </tr>\n",
       "    <tr>\n",
       "      <th>133074</th>\n",
       "      <td>NE</td>\n",
       "      <td>AL</td>\n",
       "      <td>DELMIRO GOUVEIA</td>\n",
       "      <td>CENTRO</td>\n",
       "      <td>ETANOL</td>\n",
       "      <td>2023-03-28</td>\n",
       "      <td>6.50</td>\n",
       "      <td>NaN</td>\n",
       "      <td>R$ / litro</td>\n",
       "    </tr>\n",
       "    <tr>\n",
       "      <th>51068</th>\n",
       "      <td>SE</td>\n",
       "      <td>SP</td>\n",
       "      <td>CATANDUVA</td>\n",
       "      <td>HIGIENOPOLIS</td>\n",
       "      <td>ETANOL</td>\n",
       "      <td>2023-02-06</td>\n",
       "      <td>6.49</td>\n",
       "      <td>NaN</td>\n",
       "      <td>R$ / litro</td>\n",
       "    </tr>\n",
       "    <tr>\n",
       "      <th>63284</th>\n",
       "      <td>SE</td>\n",
       "      <td>SP</td>\n",
       "      <td>FRANCA</td>\n",
       "      <td>JARDIM MARAMBAIA</td>\n",
       "      <td>ETANOL</td>\n",
       "      <td>2023-02-13</td>\n",
       "      <td>6.49</td>\n",
       "      <td>NaN</td>\n",
       "      <td>R$ / litro</td>\n",
       "    </tr>\n",
       "    <tr>\n",
       "      <th>80026</th>\n",
       "      <td>NE</td>\n",
       "      <td>BA</td>\n",
       "      <td>JEQUIE</td>\n",
       "      <td>CENTRO</td>\n",
       "      <td>ETANOL</td>\n",
       "      <td>2023-02-23</td>\n",
       "      <td>6.45</td>\n",
       "      <td>NaN</td>\n",
       "      <td>R$ / litro</td>\n",
       "    </tr>\n",
       "  </tbody>\n",
       "</table>\n",
       "</div>"
      ],
      "text/plain": [
       "       Regiao Estado        Municipio            Bairro Produto Data_Coleta  \\\n",
       "88928       N     RO    PIMENTA BUENO         BEIRA RIO  ETANOL  2023-02-28   \n",
       "79277      SE     MG      DIVINOPOLIS            CENTRO  ETANOL  2023-02-22   \n",
       "26037       S     RS      PASSO FUNDO            CENTRO  ETANOL  2023-01-18   \n",
       "29669       S     RS      PASSO FUNDO            CENTRO  ETANOL  2023-01-23   \n",
       "75067       S     RS      PASSO FUNDO            CENTRO  ETANOL  2023-02-21   \n",
       "90093       S     RS      PASSO FUNDO            CENTRO  ETANOL  2023-03-01   \n",
       "97850       S     RS      PASSO FUNDO            CENTRO  ETANOL  2023-03-07   \n",
       "105077      S     RS      PASSO FUNDO            CENTRO  ETANOL  2023-03-13   \n",
       "102439     NE     AL  DELMIRO GOUVEIA            CENTRO  ETANOL  2023-03-08   \n",
       "107390     NE     AL  DELMIRO GOUVEIA            CENTRO  ETANOL  2023-03-13   \n",
       "118472     NE     AL  DELMIRO GOUVEIA            CENTRO  ETANOL  2023-03-20   \n",
       "133074     NE     AL  DELMIRO GOUVEIA            CENTRO  ETANOL  2023-03-28   \n",
       "51068      SE     SP        CATANDUVA      HIGIENOPOLIS  ETANOL  2023-02-06   \n",
       "63284      SE     SP           FRANCA  JARDIM MARAMBAIA  ETANOL  2023-02-13   \n",
       "80026      NE     BA           JEQUIE            CENTRO  ETANOL  2023-02-23   \n",
       "\n",
       "        Valor_Venda  Valor_Compra Unidade_Medida  \n",
       "88928          6.96           NaN     R$ / litro  \n",
       "79277          6.77           NaN     R$ / litro  \n",
       "26037          6.57           NaN     R$ / litro  \n",
       "29669          6.57           NaN     R$ / litro  \n",
       "75067          6.57           NaN     R$ / litro  \n",
       "90093          6.57           NaN     R$ / litro  \n",
       "97850          6.57           NaN     R$ / litro  \n",
       "105077         6.57           NaN     R$ / litro  \n",
       "102439         6.50           NaN     R$ / litro  \n",
       "107390         6.50           NaN     R$ / litro  \n",
       "118472         6.50           NaN     R$ / litro  \n",
       "133074         6.50           NaN     R$ / litro  \n",
       "51068          6.49           NaN     R$ / litro  \n",
       "63284          6.49           NaN     R$ / litro  \n",
       "80026          6.45           NaN     R$ / litro  "
      ]
     },
     "execution_count": 21,
     "metadata": {},
     "output_type": "execute_result"
    }
   ],
   "source": [
    "# Exibindo os maiores preços do Etanol.  \n",
    "df_etanol.nlargest(15, \"Valor_Venda\")"
   ]
  },
  {
   "cell_type": "code",
   "execution_count": 22,
   "id": "44190267",
   "metadata": {},
   "outputs": [
    {
     "data": {
      "text/plain": [
       "(33, 9)"
      ]
     },
     "execution_count": 22,
     "metadata": {},
     "output_type": "execute_result"
    }
   ],
   "source": [
    "# Filtrar os valores outliers e identificar a quantidade de registros que deverão ser removidos\n",
    "etanol_outlier = df_etanol.loc[df_etanol.Valor_Venda >= 6.10]\n",
    "etanol_outlier.shape"
   ]
  },
  {
   "cell_type": "code",
   "execution_count": 23,
   "id": "2543c531",
   "metadata": {},
   "outputs": [
    {
     "data": {
      "text/plain": [
       "(45133, 9)"
      ]
     },
     "execution_count": 23,
     "metadata": {},
     "output_type": "execute_result"
    }
   ],
   "source": [
    "# Verficação do Tamanho do dataframe temporário\n",
    "df_etanol.shape"
   ]
  },
  {
   "cell_type": "code",
   "execution_count": 24,
   "id": "c824a6e7",
   "metadata": {},
   "outputs": [],
   "source": [
    "# Remoção dos registros outliers no dataframe temporário\n",
    "df_etanol = df_etanol.drop(etanol_outlier.index)"
   ]
  },
  {
   "cell_type": "code",
   "execution_count": 25,
   "id": "0c2d2a47",
   "metadata": {},
   "outputs": [
    {
     "data": {
      "text/plain": [
       "(45100, 9)"
      ]
     },
     "execution_count": 25,
     "metadata": {},
     "output_type": "execute_result"
    }
   ],
   "source": [
    "# Verficação do Tamanho do dataframe temporário após remoção dos outliers\n",
    "df_etanol.shape"
   ]
  },
  {
   "cell_type": "code",
   "execution_count": 26,
   "id": "1b2659f4",
   "metadata": {},
   "outputs": [
    {
     "data": {
      "image/png": "[encoded data removed]",
      "text/plain": [
       "<Figure size 432x288 with 1 Axes>"
      ]
     },
     "metadata": {
      "needs_background": "light"
     },
     "output_type": "display_data"
    }
   ],
   "source": [
    "# Verificação do Produto Etanol após tratamento de outliers\n",
    "sns.boxplot(df_etanol.Valor_Venda)\n",
    "plt.title(\"Distribuição dos Preços do Etanol\\n\")\n",
    "plt.show()"
   ]
  },
  {
   "cell_type": "code",
   "execution_count": 27,
   "id": "73de3cba",
   "metadata": {},
   "outputs": [
    {
     "data": {
      "text/html": [
       "<div>\n",
       "<style scoped>\n",
       "    .dataframe tbody tr th:only-of-type {\n",
       "        vertical-align: middle;\n",
       "    }\n",
       "\n",
       "    .dataframe tbody tr th {\n",
       "        vertical-align: top;\n",
       "    }\n",
       "\n",
       "    .dataframe thead th {\n",
       "        text-align: right;\n",
       "    }\n",
       "</style>\n",
       "<table border=\"1\" class=\"dataframe\">\n",
       "  <thead>\n",
       "    <tr style=\"text-align: right;\">\n",
       "      <th></th>\n",
       "      <th>Regiao</th>\n",
       "      <th>Estado</th>\n",
       "      <th>Municipio</th>\n",
       "      <th>Bairro</th>\n",
       "      <th>Produto</th>\n",
       "      <th>Data_Coleta</th>\n",
       "      <th>Valor_Venda</th>\n",
       "      <th>Valor_Compra</th>\n",
       "      <th>Unidade_Medida</th>\n",
       "    </tr>\n",
       "  </thead>\n",
       "  <tbody>\n",
       "    <tr>\n",
       "      <th>537</th>\n",
       "      <td>S</td>\n",
       "      <td>RS</td>\n",
       "      <td>SANTA CRUZ DO SUL</td>\n",
       "      <td>CENTRO</td>\n",
       "      <td>ETANOL</td>\n",
       "      <td>2023-01-02</td>\n",
       "      <td>5.99</td>\n",
       "      <td>NaN</td>\n",
       "      <td>R$ / litro</td>\n",
       "    </tr>\n",
       "    <tr>\n",
       "      <th>6420</th>\n",
       "      <td>S</td>\n",
       "      <td>RS</td>\n",
       "      <td>ERECHIM</td>\n",
       "      <td>ESPIRITO SANTO</td>\n",
       "      <td>ETANOL</td>\n",
       "      <td>2023-01-04</td>\n",
       "      <td>5.99</td>\n",
       "      <td>NaN</td>\n",
       "      <td>R$ / litro</td>\n",
       "    </tr>\n",
       "    <tr>\n",
       "      <th>6820</th>\n",
       "      <td>S</td>\n",
       "      <td>RS</td>\n",
       "      <td>SANTA CRUZ DO SUL</td>\n",
       "      <td>AVENIDA</td>\n",
       "      <td>ETANOL</td>\n",
       "      <td>2023-01-04</td>\n",
       "      <td>5.99</td>\n",
       "      <td>NaN</td>\n",
       "      <td>R$ / litro</td>\n",
       "    </tr>\n",
       "    <tr>\n",
       "      <th>10877</th>\n",
       "      <td>S</td>\n",
       "      <td>RS</td>\n",
       "      <td>ERECHIM</td>\n",
       "      <td>ESPIRITO SANTO</td>\n",
       "      <td>ETANOL</td>\n",
       "      <td>2023-01-09</td>\n",
       "      <td>5.99</td>\n",
       "      <td>NaN</td>\n",
       "      <td>R$ / litro</td>\n",
       "    </tr>\n",
       "    <tr>\n",
       "      <th>13037</th>\n",
       "      <td>S</td>\n",
       "      <td>RS</td>\n",
       "      <td>SANTA CRUZ DO SUL</td>\n",
       "      <td>CENTRO</td>\n",
       "      <td>ETANOL</td>\n",
       "      <td>2023-01-10</td>\n",
       "      <td>5.99</td>\n",
       "      <td>NaN</td>\n",
       "      <td>R$ / litro</td>\n",
       "    </tr>\n",
       "    <tr>\n",
       "      <th>13046</th>\n",
       "      <td>S</td>\n",
       "      <td>RS</td>\n",
       "      <td>SANTA CRUZ DO SUL</td>\n",
       "      <td>CENTRO</td>\n",
       "      <td>ETANOL</td>\n",
       "      <td>2023-01-10</td>\n",
       "      <td>5.99</td>\n",
       "      <td>NaN</td>\n",
       "      <td>R$ / litro</td>\n",
       "    </tr>\n",
       "    <tr>\n",
       "      <th>14536</th>\n",
       "      <td>S</td>\n",
       "      <td>RS</td>\n",
       "      <td>SANTA CRUZ DO SUL</td>\n",
       "      <td>AVENIDA</td>\n",
       "      <td>ETANOL</td>\n",
       "      <td>2023-01-10</td>\n",
       "      <td>5.99</td>\n",
       "      <td>NaN</td>\n",
       "      <td>R$ / litro</td>\n",
       "    </tr>\n",
       "    <tr>\n",
       "      <th>16443</th>\n",
       "      <td>S</td>\n",
       "      <td>RS</td>\n",
       "      <td>OSORIO</td>\n",
       "      <td>CENTRO</td>\n",
       "      <td>ETANOL</td>\n",
       "      <td>2023-01-11</td>\n",
       "      <td>5.99</td>\n",
       "      <td>NaN</td>\n",
       "      <td>R$ / litro</td>\n",
       "    </tr>\n",
       "    <tr>\n",
       "      <th>19652</th>\n",
       "      <td>S</td>\n",
       "      <td>RS</td>\n",
       "      <td>SANTA CRUZ DO SUL</td>\n",
       "      <td>CENTRO</td>\n",
       "      <td>ETANOL</td>\n",
       "      <td>2023-01-16</td>\n",
       "      <td>5.99</td>\n",
       "      <td>NaN</td>\n",
       "      <td>R$ / litro</td>\n",
       "    </tr>\n",
       "    <tr>\n",
       "      <th>19663</th>\n",
       "      <td>S</td>\n",
       "      <td>RS</td>\n",
       "      <td>SANTA CRUZ DO SUL</td>\n",
       "      <td>CENTRO</td>\n",
       "      <td>ETANOL</td>\n",
       "      <td>2023-01-16</td>\n",
       "      <td>5.99</td>\n",
       "      <td>NaN</td>\n",
       "      <td>R$ / litro</td>\n",
       "    </tr>\n",
       "    <tr>\n",
       "      <th>21727</th>\n",
       "      <td>S</td>\n",
       "      <td>RS</td>\n",
       "      <td>SANTA CRUZ DO SUL</td>\n",
       "      <td>AVENIDA</td>\n",
       "      <td>ETANOL</td>\n",
       "      <td>2023-01-16</td>\n",
       "      <td>5.99</td>\n",
       "      <td>NaN</td>\n",
       "      <td>R$ / litro</td>\n",
       "    </tr>\n",
       "    <tr>\n",
       "      <th>24014</th>\n",
       "      <td>S</td>\n",
       "      <td>RS</td>\n",
       "      <td>ERECHIM</td>\n",
       "      <td>ESPIRITO SANTO</td>\n",
       "      <td>ETANOL</td>\n",
       "      <td>2023-01-17</td>\n",
       "      <td>5.99</td>\n",
       "      <td>NaN</td>\n",
       "      <td>R$ / litro</td>\n",
       "    </tr>\n",
       "    <tr>\n",
       "      <th>30880</th>\n",
       "      <td>S</td>\n",
       "      <td>RS</td>\n",
       "      <td>ERECHIM</td>\n",
       "      <td>ESPIRITO SANTO</td>\n",
       "      <td>ETANOL</td>\n",
       "      <td>2023-01-23</td>\n",
       "      <td>5.99</td>\n",
       "      <td>NaN</td>\n",
       "      <td>R$ / litro</td>\n",
       "    </tr>\n",
       "    <tr>\n",
       "      <th>30901</th>\n",
       "      <td>S</td>\n",
       "      <td>RS</td>\n",
       "      <td>OSORIO</td>\n",
       "      <td>CENTRO</td>\n",
       "      <td>ETANOL</td>\n",
       "      <td>2023-01-23</td>\n",
       "      <td>5.99</td>\n",
       "      <td>NaN</td>\n",
       "      <td>R$ / litro</td>\n",
       "    </tr>\n",
       "    <tr>\n",
       "      <th>33118</th>\n",
       "      <td>S</td>\n",
       "      <td>RS</td>\n",
       "      <td>SANTA CRUZ DO SUL</td>\n",
       "      <td>CENTRO</td>\n",
       "      <td>ETANOL</td>\n",
       "      <td>2023-01-24</td>\n",
       "      <td>5.99</td>\n",
       "      <td>NaN</td>\n",
       "      <td>R$ / litro</td>\n",
       "    </tr>\n",
       "  </tbody>\n",
       "</table>\n",
       "</div>"
      ],
      "text/plain": [
       "      Regiao Estado          Municipio          Bairro Produto Data_Coleta  \\\n",
       "537        S     RS  SANTA CRUZ DO SUL          CENTRO  ETANOL  2023-01-02   \n",
       "6420       S     RS            ERECHIM  ESPIRITO SANTO  ETANOL  2023-01-04   \n",
       "6820       S     RS  SANTA CRUZ DO SUL         AVENIDA  ETANOL  2023-01-04   \n",
       "10877      S     RS            ERECHIM  ESPIRITO SANTO  ETANOL  2023-01-09   \n",
       "13037      S     RS  SANTA CRUZ DO SUL          CENTRO  ETANOL  2023-01-10   \n",
       "13046      S     RS  SANTA CRUZ DO SUL          CENTRO  ETANOL  2023-01-10   \n",
       "14536      S     RS  SANTA CRUZ DO SUL         AVENIDA  ETANOL  2023-01-10   \n",
       "16443      S     RS             OSORIO          CENTRO  ETANOL  2023-01-11   \n",
       "19652      S     RS  SANTA CRUZ DO SUL          CENTRO  ETANOL  2023-01-16   \n",
       "19663      S     RS  SANTA CRUZ DO SUL          CENTRO  ETANOL  2023-01-16   \n",
       "21727      S     RS  SANTA CRUZ DO SUL         AVENIDA  ETANOL  2023-01-16   \n",
       "24014      S     RS            ERECHIM  ESPIRITO SANTO  ETANOL  2023-01-17   \n",
       "30880      S     RS            ERECHIM  ESPIRITO SANTO  ETANOL  2023-01-23   \n",
       "30901      S     RS             OSORIO          CENTRO  ETANOL  2023-01-23   \n",
       "33118      S     RS  SANTA CRUZ DO SUL          CENTRO  ETANOL  2023-01-24   \n",
       "\n",
       "       Valor_Venda  Valor_Compra Unidade_Medida  \n",
       "537           5.99           NaN     R$ / litro  \n",
       "6420          5.99           NaN     R$ / litro  \n",
       "6820          5.99           NaN     R$ / litro  \n",
       "10877         5.99           NaN     R$ / litro  \n",
       "13037         5.99           NaN     R$ / litro  \n",
       "13046         5.99           NaN     R$ / litro  \n",
       "14536         5.99           NaN     R$ / litro  \n",
       "16443         5.99           NaN     R$ / litro  \n",
       "19652         5.99           NaN     R$ / litro  \n",
       "19663         5.99           NaN     R$ / litro  \n",
       "21727         5.99           NaN     R$ / litro  \n",
       "24014         5.99           NaN     R$ / litro  \n",
       "30880         5.99           NaN     R$ / litro  \n",
       "30901         5.99           NaN     R$ / litro  \n",
       "33118         5.99           NaN     R$ / litro  "
      ]
     },
     "execution_count": 27,
     "metadata": {},
     "output_type": "execute_result"
    }
   ],
   "source": [
    "# Exibindo os maiores preços do Etanol após tratamento de outliers.  \n",
    "df_etanol.nlargest(15, \"Valor_Venda\")"
   ]
  },
  {
   "cell_type": "markdown",
   "id": "3ac2260f",
   "metadata": {},
   "source": [
    "> Conclusão da análise de valores outliers do Produto Etanol:\n",
    ">* Identificamos valores extremos que interferem no preço médio e optei pela remoção dos respectivos registros, pois são apenas 33 registros que representam 0,07% do total de registros de etanol (45133).\n",
    ">* Utilizei como filtro o valor de 6.10 (R$/litro)\n",
    ">* Neste tópico foi realizado somente a análise de valores outliers e a remoção destes registros será realizada no item de tratamente e limpeza."
   ]
  },
  {
   "cell_type": "markdown",
   "id": "3fe4092f",
   "metadata": {},
   "source": [
    " #### 3.2c-Análise de Outliers do Produto Gasolina"
   ]
  },
  {
   "cell_type": "code",
   "execution_count": 28,
   "id": "6bcf269c",
   "metadata": {},
   "outputs": [
    {
     "data": {
      "text/html": [
       "<div>\n",
       "<style scoped>\n",
       "    .dataframe tbody tr th:only-of-type {\n",
       "        vertical-align: middle;\n",
       "    }\n",
       "\n",
       "    .dataframe tbody tr th {\n",
       "        vertical-align: top;\n",
       "    }\n",
       "\n",
       "    .dataframe thead th {\n",
       "        text-align: right;\n",
       "    }\n",
       "</style>\n",
       "<table border=\"1\" class=\"dataframe\">\n",
       "  <thead>\n",
       "    <tr style=\"text-align: right;\">\n",
       "      <th></th>\n",
       "      <th>Regiao</th>\n",
       "      <th>Estado</th>\n",
       "      <th>Municipio</th>\n",
       "      <th>Bairro</th>\n",
       "      <th>Produto</th>\n",
       "      <th>Data_Coleta</th>\n",
       "      <th>Valor_Venda</th>\n",
       "      <th>Valor_Compra</th>\n",
       "      <th>Unidade_Medida</th>\n",
       "    </tr>\n",
       "  </thead>\n",
       "  <tbody>\n",
       "    <tr>\n",
       "      <th>2</th>\n",
       "      <td>NE</td>\n",
       "      <td>AL</td>\n",
       "      <td>ARAPIRACA</td>\n",
       "      <td>PLANALTO</td>\n",
       "      <td>GASOLINA</td>\n",
       "      <td>2023-01-02</td>\n",
       "      <td>5.14</td>\n",
       "      <td>NaN</td>\n",
       "      <td>R$ / litro</td>\n",
       "    </tr>\n",
       "    <tr>\n",
       "      <th>4</th>\n",
       "      <td>NE</td>\n",
       "      <td>AL</td>\n",
       "      <td>ARAPIRACA</td>\n",
       "      <td>CENTRO</td>\n",
       "      <td>GASOLINA</td>\n",
       "      <td>2023-01-02</td>\n",
       "      <td>5.29</td>\n",
       "      <td>NaN</td>\n",
       "      <td>R$ / litro</td>\n",
       "    </tr>\n",
       "    <tr>\n",
       "      <th>7</th>\n",
       "      <td>NE</td>\n",
       "      <td>AL</td>\n",
       "      <td>ARAPIRACA</td>\n",
       "      <td>CANAFISTULA</td>\n",
       "      <td>GASOLINA</td>\n",
       "      <td>2023-01-02</td>\n",
       "      <td>5.19</td>\n",
       "      <td>NaN</td>\n",
       "      <td>R$ / litro</td>\n",
       "    </tr>\n",
       "    <tr>\n",
       "      <th>10</th>\n",
       "      <td>NE</td>\n",
       "      <td>AL</td>\n",
       "      <td>ARAPIRACA</td>\n",
       "      <td>JARDIM ESPERANCA</td>\n",
       "      <td>GASOLINA</td>\n",
       "      <td>2023-01-02</td>\n",
       "      <td>5.79</td>\n",
       "      <td>NaN</td>\n",
       "      <td>R$ / litro</td>\n",
       "    </tr>\n",
       "    <tr>\n",
       "      <th>13</th>\n",
       "      <td>SE</td>\n",
       "      <td>ES</td>\n",
       "      <td>VILA VELHA</td>\n",
       "      <td>DIVINO ESPIRITO SANTO</td>\n",
       "      <td>GASOLINA</td>\n",
       "      <td>2023-01-02</td>\n",
       "      <td>4.89</td>\n",
       "      <td>NaN</td>\n",
       "      <td>R$ / litro</td>\n",
       "    </tr>\n",
       "  </tbody>\n",
       "</table>\n",
       "</div>"
      ],
      "text/plain": [
       "   Regiao Estado   Municipio                 Bairro   Produto Data_Coleta  \\\n",
       "2      NE     AL   ARAPIRACA               PLANALTO  GASOLINA  2023-01-02   \n",
       "4      NE     AL   ARAPIRACA                 CENTRO  GASOLINA  2023-01-02   \n",
       "7      NE     AL   ARAPIRACA            CANAFISTULA  GASOLINA  2023-01-02   \n",
       "10     NE     AL   ARAPIRACA       JARDIM ESPERANCA  GASOLINA  2023-01-02   \n",
       "13     SE     ES  VILA VELHA  DIVINO ESPIRITO SANTO  GASOLINA  2023-01-02   \n",
       "\n",
       "    Valor_Venda  Valor_Compra Unidade_Medida  \n",
       "2          5.14           NaN     R$ / litro  \n",
       "4          5.29           NaN     R$ / litro  \n",
       "7          5.19           NaN     R$ / litro  \n",
       "10         5.79           NaN     R$ / litro  \n",
       "13         4.89           NaN     R$ / litro  "
      ]
     },
     "execution_count": 28,
     "metadata": {},
     "output_type": "execute_result"
    }
   ],
   "source": [
    "# Criar um dataframe temporário somente com Produto Gasolina\n",
    "df_gasolina = dados_tmp.loc[dados_tmp.Produto == 'GASOLINA']\n",
    "df_gasolina.head()"
   ]
  },
  {
   "cell_type": "code",
   "execution_count": 29,
   "id": "e7b2cd5a",
   "metadata": {},
   "outputs": [
    {
     "data": {
      "image/png": "[encoded data removed]",
      "text/plain": [
       "<Figure size 432x288 with 1 Axes>"
      ]
     },
     "metadata": {
      "needs_background": "light"
     },
     "output_type": "display_data"
    }
   ],
   "source": [
    "# Verificação de valores outliers do Produto Gasolina\n",
    "sns.boxplot(df_gasolina.Valor_Venda)\n",
    "plt.title(\"Distribuição dos Preços da Gasolina\\n\")\n",
    "plt.show()"
   ]
  },
  {
   "cell_type": "code",
   "execution_count": 30,
   "id": "10e6086c",
   "metadata": {},
   "outputs": [
    {
     "data": {
      "text/html": [
       "<div>\n",
       "<style scoped>\n",
       "    .dataframe tbody tr th:only-of-type {\n",
       "        vertical-align: middle;\n",
       "    }\n",
       "\n",
       "    .dataframe tbody tr th {\n",
       "        vertical-align: top;\n",
       "    }\n",
       "\n",
       "    .dataframe thead th {\n",
       "        text-align: right;\n",
       "    }\n",
       "</style>\n",
       "<table border=\"1\" class=\"dataframe\">\n",
       "  <thead>\n",
       "    <tr style=\"text-align: right;\">\n",
       "      <th></th>\n",
       "      <th>Regiao</th>\n",
       "      <th>Estado</th>\n",
       "      <th>Municipio</th>\n",
       "      <th>Bairro</th>\n",
       "      <th>Produto</th>\n",
       "      <th>Data_Coleta</th>\n",
       "      <th>Valor_Venda</th>\n",
       "      <th>Valor_Compra</th>\n",
       "      <th>Unidade_Medida</th>\n",
       "    </tr>\n",
       "  </thead>\n",
       "  <tbody>\n",
       "    <tr>\n",
       "      <th>41901</th>\n",
       "      <td>SE</td>\n",
       "      <td>SP</td>\n",
       "      <td>ITATIBA</td>\n",
       "      <td>MORRO AZUL</td>\n",
       "      <td>GASOLINA</td>\n",
       "      <td>2023-01-30</td>\n",
       "      <td>8.19</td>\n",
       "      <td>NaN</td>\n",
       "      <td>R$ / litro</td>\n",
       "    </tr>\n",
       "    <tr>\n",
       "      <th>880</th>\n",
       "      <td>SE</td>\n",
       "      <td>SP</td>\n",
       "      <td>SAO PAULO</td>\n",
       "      <td>PINHEIROS</td>\n",
       "      <td>GASOLINA</td>\n",
       "      <td>2023-01-02</td>\n",
       "      <td>7.79</td>\n",
       "      <td>NaN</td>\n",
       "      <td>R$ / litro</td>\n",
       "    </tr>\n",
       "    <tr>\n",
       "      <th>900</th>\n",
       "      <td>SE</td>\n",
       "      <td>SP</td>\n",
       "      <td>SAO PAULO</td>\n",
       "      <td>ALTO DE PINHEIROS</td>\n",
       "      <td>GASOLINA</td>\n",
       "      <td>2023-01-02</td>\n",
       "      <td>7.79</td>\n",
       "      <td>NaN</td>\n",
       "      <td>R$ / litro</td>\n",
       "    </tr>\n",
       "    <tr>\n",
       "      <th>956</th>\n",
       "      <td>SE</td>\n",
       "      <td>SP</td>\n",
       "      <td>SAO PAULO</td>\n",
       "      <td>ALTO DE PINHEIROS</td>\n",
       "      <td>GASOLINA</td>\n",
       "      <td>2023-01-02</td>\n",
       "      <td>7.79</td>\n",
       "      <td>NaN</td>\n",
       "      <td>R$ / litro</td>\n",
       "    </tr>\n",
       "    <tr>\n",
       "      <th>992</th>\n",
       "      <td>SE</td>\n",
       "      <td>SP</td>\n",
       "      <td>SAO PAULO</td>\n",
       "      <td>VILA ANDRADE</td>\n",
       "      <td>GASOLINA</td>\n",
       "      <td>2023-01-02</td>\n",
       "      <td>7.79</td>\n",
       "      <td>NaN</td>\n",
       "      <td>R$ / litro</td>\n",
       "    </tr>\n",
       "    <tr>\n",
       "      <th>1019</th>\n",
       "      <td>SE</td>\n",
       "      <td>SP</td>\n",
       "      <td>SAO PAULO</td>\n",
       "      <td>VL OLIMPIA</td>\n",
       "      <td>GASOLINA</td>\n",
       "      <td>2023-01-02</td>\n",
       "      <td>7.79</td>\n",
       "      <td>NaN</td>\n",
       "      <td>R$ / litro</td>\n",
       "    </tr>\n",
       "    <tr>\n",
       "      <th>877</th>\n",
       "      <td>SE</td>\n",
       "      <td>SP</td>\n",
       "      <td>SAO PAULO</td>\n",
       "      <td>JURUBATUBA</td>\n",
       "      <td>GASOLINA</td>\n",
       "      <td>2023-01-02</td>\n",
       "      <td>7.69</td>\n",
       "      <td>NaN</td>\n",
       "      <td>R$ / litro</td>\n",
       "    </tr>\n",
       "    <tr>\n",
       "      <th>94824</th>\n",
       "      <td>SE</td>\n",
       "      <td>SP</td>\n",
       "      <td>SAO PAULO</td>\n",
       "      <td>JD PAULISTA</td>\n",
       "      <td>GASOLINA</td>\n",
       "      <td>2023-03-06</td>\n",
       "      <td>7.19</td>\n",
       "      <td>NaN</td>\n",
       "      <td>R$ / litro</td>\n",
       "    </tr>\n",
       "    <tr>\n",
       "      <th>94915</th>\n",
       "      <td>SE</td>\n",
       "      <td>SP</td>\n",
       "      <td>SAO PAULO</td>\n",
       "      <td>JD. AMERICA</td>\n",
       "      <td>GASOLINA</td>\n",
       "      <td>2023-03-06</td>\n",
       "      <td>7.19</td>\n",
       "      <td>NaN</td>\n",
       "      <td>R$ / litro</td>\n",
       "    </tr>\n",
       "    <tr>\n",
       "      <th>105678</th>\n",
       "      <td>SE</td>\n",
       "      <td>SP</td>\n",
       "      <td>SAO PAULO</td>\n",
       "      <td>JD PAULISTA</td>\n",
       "      <td>GASOLINA</td>\n",
       "      <td>2023-03-13</td>\n",
       "      <td>7.19</td>\n",
       "      <td>NaN</td>\n",
       "      <td>R$ / litro</td>\n",
       "    </tr>\n",
       "    <tr>\n",
       "      <th>105757</th>\n",
       "      <td>SE</td>\n",
       "      <td>SP</td>\n",
       "      <td>SAO PAULO</td>\n",
       "      <td>JD. AMERICA</td>\n",
       "      <td>GASOLINA</td>\n",
       "      <td>2023-03-13</td>\n",
       "      <td>7.19</td>\n",
       "      <td>NaN</td>\n",
       "      <td>R$ / litro</td>\n",
       "    </tr>\n",
       "    <tr>\n",
       "      <th>123264</th>\n",
       "      <td>SE</td>\n",
       "      <td>SP</td>\n",
       "      <td>SAO PAULO</td>\n",
       "      <td>JD PAULISTA</td>\n",
       "      <td>GASOLINA</td>\n",
       "      <td>2023-03-22</td>\n",
       "      <td>7.19</td>\n",
       "      <td>NaN</td>\n",
       "      <td>R$ / litro</td>\n",
       "    </tr>\n",
       "    <tr>\n",
       "      <th>123298</th>\n",
       "      <td>SE</td>\n",
       "      <td>SP</td>\n",
       "      <td>SAO PAULO</td>\n",
       "      <td>JD. AMERICA</td>\n",
       "      <td>GASOLINA</td>\n",
       "      <td>2023-03-22</td>\n",
       "      <td>7.19</td>\n",
       "      <td>NaN</td>\n",
       "      <td>R$ / litro</td>\n",
       "    </tr>\n",
       "    <tr>\n",
       "      <th>128079</th>\n",
       "      <td>SE</td>\n",
       "      <td>SP</td>\n",
       "      <td>SAO PAULO</td>\n",
       "      <td>JD PAULISTA</td>\n",
       "      <td>GASOLINA</td>\n",
       "      <td>2023-03-27</td>\n",
       "      <td>7.19</td>\n",
       "      <td>NaN</td>\n",
       "      <td>R$ / litro</td>\n",
       "    </tr>\n",
       "    <tr>\n",
       "      <th>128172</th>\n",
       "      <td>SE</td>\n",
       "      <td>SP</td>\n",
       "      <td>SAO PAULO</td>\n",
       "      <td>JD. AMERICA</td>\n",
       "      <td>GASOLINA</td>\n",
       "      <td>2023-03-27</td>\n",
       "      <td>7.19</td>\n",
       "      <td>NaN</td>\n",
       "      <td>R$ / litro</td>\n",
       "    </tr>\n",
       "  </tbody>\n",
       "</table>\n",
       "</div>"
      ],
      "text/plain": [
       "       Regiao Estado  Municipio             Bairro   Produto Data_Coleta  \\\n",
       "41901      SE     SP    ITATIBA         MORRO AZUL  GASOLINA  2023-01-30   \n",
       "880        SE     SP  SAO PAULO          PINHEIROS  GASOLINA  2023-01-02   \n",
       "900        SE     SP  SAO PAULO  ALTO DE PINHEIROS  GASOLINA  2023-01-02   \n",
       "956        SE     SP  SAO PAULO  ALTO DE PINHEIROS  GASOLINA  2023-01-02   \n",
       "992        SE     SP  SAO PAULO       VILA ANDRADE  GASOLINA  2023-01-02   \n",
       "1019       SE     SP  SAO PAULO         VL OLIMPIA  GASOLINA  2023-01-02   \n",
       "877        SE     SP  SAO PAULO         JURUBATUBA  GASOLINA  2023-01-02   \n",
       "94824      SE     SP  SAO PAULO        JD PAULISTA  GASOLINA  2023-03-06   \n",
       "94915      SE     SP  SAO PAULO        JD. AMERICA  GASOLINA  2023-03-06   \n",
       "105678     SE     SP  SAO PAULO        JD PAULISTA  GASOLINA  2023-03-13   \n",
       "105757     SE     SP  SAO PAULO        JD. AMERICA  GASOLINA  2023-03-13   \n",
       "123264     SE     SP  SAO PAULO        JD PAULISTA  GASOLINA  2023-03-22   \n",
       "123298     SE     SP  SAO PAULO        JD. AMERICA  GASOLINA  2023-03-22   \n",
       "128079     SE     SP  SAO PAULO        JD PAULISTA  GASOLINA  2023-03-27   \n",
       "128172     SE     SP  SAO PAULO        JD. AMERICA  GASOLINA  2023-03-27   \n",
       "\n",
       "        Valor_Venda  Valor_Compra Unidade_Medida  \n",
       "41901          8.19           NaN     R$ / litro  \n",
       "880            7.79           NaN     R$ / litro  \n",
       "900            7.79           NaN     R$ / litro  \n",
       "956            7.79           NaN     R$ / litro  \n",
       "992            7.79           NaN     R$ / litro  \n",
       "1019           7.79           NaN     R$ / litro  \n",
       "877            7.69           NaN     R$ / litro  \n",
       "94824          7.19           NaN     R$ / litro  \n",
       "94915          7.19           NaN     R$ / litro  \n",
       "105678         7.19           NaN     R$ / litro  \n",
       "105757         7.19           NaN     R$ / litro  \n",
       "123264         7.19           NaN     R$ / litro  \n",
       "123298         7.19           NaN     R$ / litro  \n",
       "128079         7.19           NaN     R$ / litro  \n",
       "128172         7.19           NaN     R$ / litro  "
      ]
     },
     "execution_count": 30,
     "metadata": {},
     "output_type": "execute_result"
    }
   ],
   "source": [
    "# Exibindo os maiores preços do Gasolina.  \n",
    "df_gasolina.nlargest(15, \"Valor_Venda\")"
   ]
  },
  {
   "cell_type": "code",
   "execution_count": 31,
   "id": "744672d4",
   "metadata": {},
   "outputs": [
    {
     "data": {
      "text/plain": [
       "(17, 9)"
      ]
     },
     "execution_count": 31,
     "metadata": {},
     "output_type": "execute_result"
    }
   ],
   "source": [
    "# Filtrar os valores outliers e identificar a quantidade de registros que deverão ser removidos\n",
    "gasolina_outlier = df_gasolina.loc[df_gasolina.Valor_Venda >= 7.00]\n",
    "gasolina_outlier.shape"
   ]
  },
  {
   "cell_type": "code",
   "execution_count": 32,
   "id": "985fe74f",
   "metadata": {},
   "outputs": [
    {
     "data": {
      "text/plain": [
       "(52257, 9)"
      ]
     },
     "execution_count": 32,
     "metadata": {},
     "output_type": "execute_result"
    }
   ],
   "source": [
    "# Verficação do Tamanho do dataframe temporário\n",
    "df_gasolina.shape"
   ]
  },
  {
   "cell_type": "code",
   "execution_count": 33,
   "id": "40ff52b1",
   "metadata": {},
   "outputs": [],
   "source": [
    "# Remoção dos registros outliers no dataframe temporário\n",
    "df_gasolina = df_gasolina.drop(gasolina_outlier.index)"
   ]
  },
  {
   "cell_type": "code",
   "execution_count": 34,
   "id": "4af3fc7d",
   "metadata": {},
   "outputs": [
    {
     "data": {
      "text/plain": [
       "(52240, 9)"
      ]
     },
     "execution_count": 34,
     "metadata": {},
     "output_type": "execute_result"
    }
   ],
   "source": [
    "# Verficação do Tamanho do dataframe temporário após remoção dos outliers\n",
    "df_gasolina.shape"
   ]
  },
  {
   "cell_type": "code",
   "execution_count": 35,
   "id": "9b981952",
   "metadata": {},
   "outputs": [
    {
     "data": {
      "image/png": "[encoded data removed]",
      "text/plain": [
       "<Figure size 432x288 with 1 Axes>"
      ]
     },
     "metadata": {
      "needs_background": "light"
     },
     "output_type": "display_data"
    }
   ],
   "source": [
    "# Verificação do Produto Gasolina após tratamento de outliers\n",
    "sns.boxplot(df_gasolina.Valor_Venda)\n",
    "plt.title(\"Distribuição dos Preços da Gasolina\\n\")\n",
    "plt.show()"
   ]
  },
  {
   "cell_type": "code",
   "execution_count": 36,
   "id": "6263ee5f",
   "metadata": {},
   "outputs": [
    {
     "data": {
      "text/html": [
       "<div>\n",
       "<style scoped>\n",
       "    .dataframe tbody tr th:only-of-type {\n",
       "        vertical-align: middle;\n",
       "    }\n",
       "\n",
       "    .dataframe tbody tr th {\n",
       "        vertical-align: top;\n",
       "    }\n",
       "\n",
       "    .dataframe thead th {\n",
       "        text-align: right;\n",
       "    }\n",
       "</style>\n",
       "<table border=\"1\" class=\"dataframe\">\n",
       "  <thead>\n",
       "    <tr style=\"text-align: right;\">\n",
       "      <th></th>\n",
       "      <th>Regiao</th>\n",
       "      <th>Estado</th>\n",
       "      <th>Municipio</th>\n",
       "      <th>Bairro</th>\n",
       "      <th>Produto</th>\n",
       "      <th>Data_Coleta</th>\n",
       "      <th>Valor_Venda</th>\n",
       "      <th>Valor_Compra</th>\n",
       "      <th>Unidade_Medida</th>\n",
       "    </tr>\n",
       "  </thead>\n",
       "  <tbody>\n",
       "    <tr>\n",
       "      <th>1188</th>\n",
       "      <td>SE</td>\n",
       "      <td>SP</td>\n",
       "      <td>SAO PAULO</td>\n",
       "      <td>VL CLEMENTINO</td>\n",
       "      <td>GASOLINA</td>\n",
       "      <td>2023-01-02</td>\n",
       "      <td>6.99</td>\n",
       "      <td>NaN</td>\n",
       "      <td>R$ / litro</td>\n",
       "    </tr>\n",
       "    <tr>\n",
       "      <th>1892</th>\n",
       "      <td>SE</td>\n",
       "      <td>SP</td>\n",
       "      <td>SAO PAULO</td>\n",
       "      <td>CONSOLACAO</td>\n",
       "      <td>GASOLINA</td>\n",
       "      <td>2023-01-02</td>\n",
       "      <td>6.99</td>\n",
       "      <td>NaN</td>\n",
       "      <td>R$ / litro</td>\n",
       "    </tr>\n",
       "    <tr>\n",
       "      <th>4230</th>\n",
       "      <td>SE</td>\n",
       "      <td>SP</td>\n",
       "      <td>BARUERI</td>\n",
       "      <td>ALPHAVILLE</td>\n",
       "      <td>GASOLINA</td>\n",
       "      <td>2023-01-03</td>\n",
       "      <td>6.99</td>\n",
       "      <td>NaN</td>\n",
       "      <td>R$ / litro</td>\n",
       "    </tr>\n",
       "    <tr>\n",
       "      <th>6555</th>\n",
       "      <td>SE</td>\n",
       "      <td>SP</td>\n",
       "      <td>SAO PAULO</td>\n",
       "      <td>BROOKLIN PAULISTA</td>\n",
       "      <td>GASOLINA</td>\n",
       "      <td>2023-01-04</td>\n",
       "      <td>6.99</td>\n",
       "      <td>NaN</td>\n",
       "      <td>R$ / litro</td>\n",
       "    </tr>\n",
       "    <tr>\n",
       "      <th>6573</th>\n",
       "      <td>SE</td>\n",
       "      <td>SP</td>\n",
       "      <td>SAO PAULO</td>\n",
       "      <td>CHACARA ITAIM</td>\n",
       "      <td>GASOLINA</td>\n",
       "      <td>2023-01-04</td>\n",
       "      <td>6.99</td>\n",
       "      <td>NaN</td>\n",
       "      <td>R$ / litro</td>\n",
       "    </tr>\n",
       "    <tr>\n",
       "      <th>10377</th>\n",
       "      <td>SE</td>\n",
       "      <td>SP</td>\n",
       "      <td>SAO PAULO</td>\n",
       "      <td>VL CLEMENTINO</td>\n",
       "      <td>GASOLINA</td>\n",
       "      <td>2023-01-09</td>\n",
       "      <td>6.99</td>\n",
       "      <td>NaN</td>\n",
       "      <td>R$ / litro</td>\n",
       "    </tr>\n",
       "    <tr>\n",
       "      <th>13879</th>\n",
       "      <td>SE</td>\n",
       "      <td>SP</td>\n",
       "      <td>BARUERI</td>\n",
       "      <td>ALPHAVILLE</td>\n",
       "      <td>GASOLINA</td>\n",
       "      <td>2023-01-10</td>\n",
       "      <td>6.99</td>\n",
       "      <td>NaN</td>\n",
       "      <td>R$ / litro</td>\n",
       "    </tr>\n",
       "    <tr>\n",
       "      <th>16624</th>\n",
       "      <td>SE</td>\n",
       "      <td>SP</td>\n",
       "      <td>SAO PAULO</td>\n",
       "      <td>BROOKLIN PAULISTA</td>\n",
       "      <td>GASOLINA</td>\n",
       "      <td>2023-01-11</td>\n",
       "      <td>6.99</td>\n",
       "      <td>NaN</td>\n",
       "      <td>R$ / litro</td>\n",
       "    </tr>\n",
       "    <tr>\n",
       "      <th>19958</th>\n",
       "      <td>SE</td>\n",
       "      <td>SP</td>\n",
       "      <td>SAO PAULO</td>\n",
       "      <td>PINHEIROS</td>\n",
       "      <td>GASOLINA</td>\n",
       "      <td>2023-01-16</td>\n",
       "      <td>6.99</td>\n",
       "      <td>NaN</td>\n",
       "      <td>R$ / litro</td>\n",
       "    </tr>\n",
       "    <tr>\n",
       "      <th>19976</th>\n",
       "      <td>SE</td>\n",
       "      <td>SP</td>\n",
       "      <td>SAO PAULO</td>\n",
       "      <td>ALTO DE PINHEIROS</td>\n",
       "      <td>GASOLINA</td>\n",
       "      <td>2023-01-16</td>\n",
       "      <td>6.99</td>\n",
       "      <td>NaN</td>\n",
       "      <td>R$ / litro</td>\n",
       "    </tr>\n",
       "    <tr>\n",
       "      <th>20021</th>\n",
       "      <td>SE</td>\n",
       "      <td>SP</td>\n",
       "      <td>SAO PAULO</td>\n",
       "      <td>ALTO DE PINHEIROS</td>\n",
       "      <td>GASOLINA</td>\n",
       "      <td>2023-01-16</td>\n",
       "      <td>6.99</td>\n",
       "      <td>NaN</td>\n",
       "      <td>R$ / litro</td>\n",
       "    </tr>\n",
       "    <tr>\n",
       "      <th>20242</th>\n",
       "      <td>SE</td>\n",
       "      <td>SP</td>\n",
       "      <td>SAO PAULO</td>\n",
       "      <td>VL CLEMENTINO</td>\n",
       "      <td>GASOLINA</td>\n",
       "      <td>2023-01-16</td>\n",
       "      <td>6.99</td>\n",
       "      <td>NaN</td>\n",
       "      <td>R$ / litro</td>\n",
       "    </tr>\n",
       "    <tr>\n",
       "      <th>24101</th>\n",
       "      <td>SE</td>\n",
       "      <td>SP</td>\n",
       "      <td>BARUERI</td>\n",
       "      <td>ALPHAVILLE</td>\n",
       "      <td>GASOLINA</td>\n",
       "      <td>2023-01-17</td>\n",
       "      <td>6.99</td>\n",
       "      <td>NaN</td>\n",
       "      <td>R$ / litro</td>\n",
       "    </tr>\n",
       "    <tr>\n",
       "      <th>30154</th>\n",
       "      <td>SE</td>\n",
       "      <td>SP</td>\n",
       "      <td>SAO PAULO</td>\n",
       "      <td>VILA ANDRADE</td>\n",
       "      <td>GASOLINA</td>\n",
       "      <td>2023-01-23</td>\n",
       "      <td>6.99</td>\n",
       "      <td>NaN</td>\n",
       "      <td>R$ / litro</td>\n",
       "    </tr>\n",
       "    <tr>\n",
       "      <th>30328</th>\n",
       "      <td>SE</td>\n",
       "      <td>SP</td>\n",
       "      <td>SAO PAULO</td>\n",
       "      <td>VL CLEMENTINO</td>\n",
       "      <td>GASOLINA</td>\n",
       "      <td>2023-01-23</td>\n",
       "      <td>6.99</td>\n",
       "      <td>NaN</td>\n",
       "      <td>R$ / litro</td>\n",
       "    </tr>\n",
       "  </tbody>\n",
       "</table>\n",
       "</div>"
      ],
      "text/plain": [
       "      Regiao Estado  Municipio             Bairro   Produto Data_Coleta  \\\n",
       "1188      SE     SP  SAO PAULO      VL CLEMENTINO  GASOLINA  2023-01-02   \n",
       "1892      SE     SP  SAO PAULO         CONSOLACAO  GASOLINA  2023-01-02   \n",
       "4230      SE     SP    BARUERI         ALPHAVILLE  GASOLINA  2023-01-03   \n",
       "6555      SE     SP  SAO PAULO  BROOKLIN PAULISTA  GASOLINA  2023-01-04   \n",
       "6573      SE     SP  SAO PAULO      CHACARA ITAIM  GASOLINA  2023-01-04   \n",
       "10377     SE     SP  SAO PAULO      VL CLEMENTINO  GASOLINA  2023-01-09   \n",
       "13879     SE     SP    BARUERI         ALPHAVILLE  GASOLINA  2023-01-10   \n",
       "16624     SE     SP  SAO PAULO  BROOKLIN PAULISTA  GASOLINA  2023-01-11   \n",
       "19958     SE     SP  SAO PAULO          PINHEIROS  GASOLINA  2023-01-16   \n",
       "19976     SE     SP  SAO PAULO  ALTO DE PINHEIROS  GASOLINA  2023-01-16   \n",
       "20021     SE     SP  SAO PAULO  ALTO DE PINHEIROS  GASOLINA  2023-01-16   \n",
       "20242     SE     SP  SAO PAULO      VL CLEMENTINO  GASOLINA  2023-01-16   \n",
       "24101     SE     SP    BARUERI         ALPHAVILLE  GASOLINA  2023-01-17   \n",
       "30154     SE     SP  SAO PAULO       VILA ANDRADE  GASOLINA  2023-01-23   \n",
       "30328     SE     SP  SAO PAULO      VL CLEMENTINO  GASOLINA  2023-01-23   \n",
       "\n",
       "       Valor_Venda  Valor_Compra Unidade_Medida  \n",
       "1188          6.99           NaN     R$ / litro  \n",
       "1892          6.99           NaN     R$ / litro  \n",
       "4230          6.99           NaN     R$ / litro  \n",
       "6555          6.99           NaN     R$ / litro  \n",
       "6573          6.99           NaN     R$ / litro  \n",
       "10377         6.99           NaN     R$ / litro  \n",
       "13879         6.99           NaN     R$ / litro  \n",
       "16624         6.99           NaN     R$ / litro  \n",
       "19958         6.99           NaN     R$ / litro  \n",
       "19976         6.99           NaN     R$ / litro  \n",
       "20021         6.99           NaN     R$ / litro  \n",
       "20242         6.99           NaN     R$ / litro  \n",
       "24101         6.99           NaN     R$ / litro  \n",
       "30154         6.99           NaN     R$ / litro  \n",
       "30328         6.99           NaN     R$ / litro  "
      ]
     },
     "execution_count": 36,
     "metadata": {},
     "output_type": "execute_result"
    }
   ],
   "source": [
    "# Exibindo os maiores preços do Gasolina após tratamento de outliers.  \n",
    "df_gasolina.nlargest(15, \"Valor_Venda\")"
   ]
  },
  {
   "cell_type": "markdown",
   "id": "2c35fa2c",
   "metadata": {},
   "source": [
    "> Conclusão da análise de valores outliers do Produto Gasolina:\n",
    ">* Identificamos valores extremos que interferem no preço médio e optei pela remoção dos respectivos registros, pois são apenas 17 registros que representam 0,03% do total de registros de gasolina (52257).\n",
    ">* Utilizei como filtro o valor de 7.00 (R$/litro)\n",
    ">* Neste tópico foi realizado somente a análise de valores outliers e a remoção destes registros será realizada no item de tratamente e limpeza."
   ]
  },
  {
   "cell_type": "markdown",
   "id": "546733d2",
   "metadata": {},
   "source": [
    " #### 3.2d-Análise de Outliers do Produto Gasolina Aditivada"
   ]
  },
  {
   "cell_type": "code",
   "execution_count": 37,
   "id": "380cc041",
   "metadata": {},
   "outputs": [
    {
     "data": {
      "text/html": [
       "<div>\n",
       "<style scoped>\n",
       "    .dataframe tbody tr th:only-of-type {\n",
       "        vertical-align: middle;\n",
       "    }\n",
       "\n",
       "    .dataframe tbody tr th {\n",
       "        vertical-align: top;\n",
       "    }\n",
       "\n",
       "    .dataframe thead th {\n",
       "        text-align: right;\n",
       "    }\n",
       "</style>\n",
       "<table border=\"1\" class=\"dataframe\">\n",
       "  <thead>\n",
       "    <tr style=\"text-align: right;\">\n",
       "      <th></th>\n",
       "      <th>Regiao</th>\n",
       "      <th>Estado</th>\n",
       "      <th>Municipio</th>\n",
       "      <th>Bairro</th>\n",
       "      <th>Produto</th>\n",
       "      <th>Data_Coleta</th>\n",
       "      <th>Valor_Venda</th>\n",
       "      <th>Valor_Compra</th>\n",
       "      <th>Unidade_Medida</th>\n",
       "    </tr>\n",
       "  </thead>\n",
       "  <tbody>\n",
       "    <tr>\n",
       "      <th>1</th>\n",
       "      <td>NE</td>\n",
       "      <td>AL</td>\n",
       "      <td>ARAPIRACA</td>\n",
       "      <td>PLANALTO</td>\n",
       "      <td>GASOLINA ADITIVADA</td>\n",
       "      <td>2023-01-02</td>\n",
       "      <td>5.14</td>\n",
       "      <td>NaN</td>\n",
       "      <td>R$ / litro</td>\n",
       "    </tr>\n",
       "    <tr>\n",
       "      <th>6</th>\n",
       "      <td>NE</td>\n",
       "      <td>AL</td>\n",
       "      <td>ARAPIRACA</td>\n",
       "      <td>CANAFISTULA</td>\n",
       "      <td>GASOLINA ADITIVADA</td>\n",
       "      <td>2023-01-02</td>\n",
       "      <td>5.39</td>\n",
       "      <td>NaN</td>\n",
       "      <td>R$ / litro</td>\n",
       "    </tr>\n",
       "    <tr>\n",
       "      <th>9</th>\n",
       "      <td>NE</td>\n",
       "      <td>AL</td>\n",
       "      <td>ARAPIRACA</td>\n",
       "      <td>JARDIM ESPERANCA</td>\n",
       "      <td>GASOLINA ADITIVADA</td>\n",
       "      <td>2023-01-02</td>\n",
       "      <td>5.99</td>\n",
       "      <td>NaN</td>\n",
       "      <td>R$ / litro</td>\n",
       "    </tr>\n",
       "    <tr>\n",
       "      <th>12</th>\n",
       "      <td>SE</td>\n",
       "      <td>ES</td>\n",
       "      <td>VILA VELHA</td>\n",
       "      <td>DIVINO ESPIRITO SANTO</td>\n",
       "      <td>GASOLINA ADITIVADA</td>\n",
       "      <td>2023-01-02</td>\n",
       "      <td>4.99</td>\n",
       "      <td>NaN</td>\n",
       "      <td>R$ / litro</td>\n",
       "    </tr>\n",
       "    <tr>\n",
       "      <th>14</th>\n",
       "      <td>SE</td>\n",
       "      <td>ES</td>\n",
       "      <td>VILA VELHA</td>\n",
       "      <td>JABURUNA</td>\n",
       "      <td>GASOLINA ADITIVADA</td>\n",
       "      <td>2023-01-02</td>\n",
       "      <td>4.95</td>\n",
       "      <td>NaN</td>\n",
       "      <td>R$ / litro</td>\n",
       "    </tr>\n",
       "  </tbody>\n",
       "</table>\n",
       "</div>"
      ],
      "text/plain": [
       "   Regiao Estado   Municipio                 Bairro             Produto  \\\n",
       "1      NE     AL   ARAPIRACA               PLANALTO  GASOLINA ADITIVADA   \n",
       "6      NE     AL   ARAPIRACA            CANAFISTULA  GASOLINA ADITIVADA   \n",
       "9      NE     AL   ARAPIRACA       JARDIM ESPERANCA  GASOLINA ADITIVADA   \n",
       "12     SE     ES  VILA VELHA  DIVINO ESPIRITO SANTO  GASOLINA ADITIVADA   \n",
       "14     SE     ES  VILA VELHA               JABURUNA  GASOLINA ADITIVADA   \n",
       "\n",
       "   Data_Coleta  Valor_Venda  Valor_Compra Unidade_Medida  \n",
       "1   2023-01-02         5.14           NaN     R$ / litro  \n",
       "6   2023-01-02         5.39           NaN     R$ / litro  \n",
       "9   2023-01-02         5.99           NaN     R$ / litro  \n",
       "12  2023-01-02         4.99           NaN     R$ / litro  \n",
       "14  2023-01-02         4.95           NaN     R$ / litro  "
      ]
     },
     "execution_count": 37,
     "metadata": {},
     "output_type": "execute_result"
    }
   ],
   "source": [
    "# Criar um dataframe temporário somente com Produto Gasolina Aditivada\n",
    "df_gasolina_adit = dados_tmp.loc[dados_tmp.Produto == 'GASOLINA ADITIVADA']\n",
    "df_gasolina_adit.head()"
   ]
  },
  {
   "cell_type": "code",
   "execution_count": 38,
   "id": "f82e06e9",
   "metadata": {},
   "outputs": [
    {
     "data": {
      "image/png": "[encoded data removed]",
      "text/plain": [
       "<Figure size 432x288 with 1 Axes>"
      ]
     },
     "metadata": {
      "needs_background": "light"
     },
     "output_type": "display_data"
    }
   ],
   "source": [
    "# Verificação de valores outliers do Produto Gasolina Aditivada\n",
    "sns.boxplot(df_gasolina_adit.Valor_Venda)\n",
    "plt.title(\"Distribuição dos Preços da Gasolina Aditivada\\n\")\n",
    "plt.show()"
   ]
  },
  {
   "cell_type": "code",
   "execution_count": 39,
   "id": "dc862b79",
   "metadata": {},
   "outputs": [
    {
     "data": {
      "text/html": [
       "<div>\n",
       "<style scoped>\n",
       "    .dataframe tbody tr th:only-of-type {\n",
       "        vertical-align: middle;\n",
       "    }\n",
       "\n",
       "    .dataframe tbody tr th {\n",
       "        vertical-align: top;\n",
       "    }\n",
       "\n",
       "    .dataframe thead th {\n",
       "        text-align: right;\n",
       "    }\n",
       "</style>\n",
       "<table border=\"1\" class=\"dataframe\">\n",
       "  <thead>\n",
       "    <tr style=\"text-align: right;\">\n",
       "      <th></th>\n",
       "      <th>Regiao</th>\n",
       "      <th>Estado</th>\n",
       "      <th>Municipio</th>\n",
       "      <th>Bairro</th>\n",
       "      <th>Produto</th>\n",
       "      <th>Data_Coleta</th>\n",
       "      <th>Valor_Venda</th>\n",
       "      <th>Valor_Compra</th>\n",
       "      <th>Unidade_Medida</th>\n",
       "    </tr>\n",
       "  </thead>\n",
       "  <tbody>\n",
       "    <tr>\n",
       "      <th>105005</th>\n",
       "      <td>N</td>\n",
       "      <td>RO</td>\n",
       "      <td>ARIQUEMES</td>\n",
       "      <td>SETOR DE GRANDES AREAS</td>\n",
       "      <td>GASOLINA ADITIVADA</td>\n",
       "      <td>2023-03-13</td>\n",
       "      <td>8.97</td>\n",
       "      <td>NaN</td>\n",
       "      <td>R$ / litro</td>\n",
       "    </tr>\n",
       "    <tr>\n",
       "      <th>131860</th>\n",
       "      <td>NE</td>\n",
       "      <td>RN</td>\n",
       "      <td>MOSSORO</td>\n",
       "      <td>PLANALTO TREZE DE MAIO</td>\n",
       "      <td>GASOLINA ADITIVADA</td>\n",
       "      <td>2023-03-28</td>\n",
       "      <td>8.97</td>\n",
       "      <td>NaN</td>\n",
       "      <td>R$ / litro</td>\n",
       "    </tr>\n",
       "    <tr>\n",
       "      <th>899</th>\n",
       "      <td>SE</td>\n",
       "      <td>SP</td>\n",
       "      <td>SAO PAULO</td>\n",
       "      <td>ALTO DE PINHEIROS</td>\n",
       "      <td>GASOLINA ADITIVADA</td>\n",
       "      <td>2023-01-02</td>\n",
       "      <td>7.99</td>\n",
       "      <td>NaN</td>\n",
       "      <td>R$ / litro</td>\n",
       "    </tr>\n",
       "    <tr>\n",
       "      <th>1018</th>\n",
       "      <td>SE</td>\n",
       "      <td>SP</td>\n",
       "      <td>SAO PAULO</td>\n",
       "      <td>VL OLIMPIA</td>\n",
       "      <td>GASOLINA ADITIVADA</td>\n",
       "      <td>2023-01-02</td>\n",
       "      <td>7.99</td>\n",
       "      <td>NaN</td>\n",
       "      <td>R$ / litro</td>\n",
       "    </tr>\n",
       "    <tr>\n",
       "      <th>1187</th>\n",
       "      <td>SE</td>\n",
       "      <td>SP</td>\n",
       "      <td>SAO PAULO</td>\n",
       "      <td>VL CLEMENTINO</td>\n",
       "      <td>GASOLINA ADITIVADA</td>\n",
       "      <td>2023-01-02</td>\n",
       "      <td>7.99</td>\n",
       "      <td>NaN</td>\n",
       "      <td>R$ / litro</td>\n",
       "    </tr>\n",
       "    <tr>\n",
       "      <th>10376</th>\n",
       "      <td>SE</td>\n",
       "      <td>SP</td>\n",
       "      <td>SAO PAULO</td>\n",
       "      <td>VL CLEMENTINO</td>\n",
       "      <td>GASOLINA ADITIVADA</td>\n",
       "      <td>2023-01-09</td>\n",
       "      <td>7.99</td>\n",
       "      <td>NaN</td>\n",
       "      <td>R$ / litro</td>\n",
       "    </tr>\n",
       "    <tr>\n",
       "      <th>20241</th>\n",
       "      <td>SE</td>\n",
       "      <td>SP</td>\n",
       "      <td>SAO PAULO</td>\n",
       "      <td>VL CLEMENTINO</td>\n",
       "      <td>GASOLINA ADITIVADA</td>\n",
       "      <td>2023-01-16</td>\n",
       "      <td>7.99</td>\n",
       "      <td>NaN</td>\n",
       "      <td>R$ / litro</td>\n",
       "    </tr>\n",
       "    <tr>\n",
       "      <th>30327</th>\n",
       "      <td>SE</td>\n",
       "      <td>SP</td>\n",
       "      <td>SAO PAULO</td>\n",
       "      <td>VL CLEMENTINO</td>\n",
       "      <td>GASOLINA ADITIVADA</td>\n",
       "      <td>2023-01-23</td>\n",
       "      <td>7.99</td>\n",
       "      <td>NaN</td>\n",
       "      <td>R$ / litro</td>\n",
       "    </tr>\n",
       "    <tr>\n",
       "      <th>41134</th>\n",
       "      <td>SE</td>\n",
       "      <td>SP</td>\n",
       "      <td>SAO PAULO</td>\n",
       "      <td>VL CLEMENTINO</td>\n",
       "      <td>GASOLINA ADITIVADA</td>\n",
       "      <td>2023-01-30</td>\n",
       "      <td>7.99</td>\n",
       "      <td>NaN</td>\n",
       "      <td>R$ / litro</td>\n",
       "    </tr>\n",
       "    <tr>\n",
       "      <th>51599</th>\n",
       "      <td>SE</td>\n",
       "      <td>SP</td>\n",
       "      <td>SAO PAULO</td>\n",
       "      <td>VL CLEMENTINO</td>\n",
       "      <td>GASOLINA ADITIVADA</td>\n",
       "      <td>2023-02-06</td>\n",
       "      <td>7.99</td>\n",
       "      <td>NaN</td>\n",
       "      <td>R$ / litro</td>\n",
       "    </tr>\n",
       "    <tr>\n",
       "      <th>62188</th>\n",
       "      <td>SE</td>\n",
       "      <td>SP</td>\n",
       "      <td>SAO PAULO</td>\n",
       "      <td>VL CLEMENTINO</td>\n",
       "      <td>GASOLINA ADITIVADA</td>\n",
       "      <td>2023-02-13</td>\n",
       "      <td>7.99</td>\n",
       "      <td>NaN</td>\n",
       "      <td>R$ / litro</td>\n",
       "    </tr>\n",
       "    <tr>\n",
       "      <th>72837</th>\n",
       "      <td>SE</td>\n",
       "      <td>SP</td>\n",
       "      <td>SAO PAULO</td>\n",
       "      <td>VL CLEMENTINO</td>\n",
       "      <td>GASOLINA ADITIVADA</td>\n",
       "      <td>2023-02-20</td>\n",
       "      <td>7.99</td>\n",
       "      <td>NaN</td>\n",
       "      <td>R$ / litro</td>\n",
       "    </tr>\n",
       "    <tr>\n",
       "      <th>84151</th>\n",
       "      <td>SE</td>\n",
       "      <td>SP</td>\n",
       "      <td>SAO PAULO</td>\n",
       "      <td>VL CLEMENTINO</td>\n",
       "      <td>GASOLINA ADITIVADA</td>\n",
       "      <td>2023-02-27</td>\n",
       "      <td>7.99</td>\n",
       "      <td>NaN</td>\n",
       "      <td>R$ / litro</td>\n",
       "    </tr>\n",
       "    <tr>\n",
       "      <th>94944</th>\n",
       "      <td>SE</td>\n",
       "      <td>SP</td>\n",
       "      <td>SAO PAULO</td>\n",
       "      <td>VL CLEMENTINO</td>\n",
       "      <td>GASOLINA ADITIVADA</td>\n",
       "      <td>2023-03-06</td>\n",
       "      <td>7.99</td>\n",
       "      <td>NaN</td>\n",
       "      <td>R$ / litro</td>\n",
       "    </tr>\n",
       "    <tr>\n",
       "      <th>105783</th>\n",
       "      <td>SE</td>\n",
       "      <td>SP</td>\n",
       "      <td>SAO PAULO</td>\n",
       "      <td>VL CLEMENTINO</td>\n",
       "      <td>GASOLINA ADITIVADA</td>\n",
       "      <td>2023-03-13</td>\n",
       "      <td>7.99</td>\n",
       "      <td>NaN</td>\n",
       "      <td>R$ / litro</td>\n",
       "    </tr>\n",
       "  </tbody>\n",
       "</table>\n",
       "</div>"
      ],
      "text/plain": [
       "       Regiao Estado  Municipio                  Bairro             Produto  \\\n",
       "105005      N     RO  ARIQUEMES  SETOR DE GRANDES AREAS  GASOLINA ADITIVADA   \n",
       "131860     NE     RN    MOSSORO  PLANALTO TREZE DE MAIO  GASOLINA ADITIVADA   \n",
       "899        SE     SP  SAO PAULO       ALTO DE PINHEIROS  GASOLINA ADITIVADA   \n",
       "1018       SE     SP  SAO PAULO              VL OLIMPIA  GASOLINA ADITIVADA   \n",
       "1187       SE     SP  SAO PAULO           VL CLEMENTINO  GASOLINA ADITIVADA   \n",
       "10376      SE     SP  SAO PAULO           VL CLEMENTINO  GASOLINA ADITIVADA   \n",
       "20241      SE     SP  SAO PAULO           VL CLEMENTINO  GASOLINA ADITIVADA   \n",
       "30327      SE     SP  SAO PAULO           VL CLEMENTINO  GASOLINA ADITIVADA   \n",
       "41134      SE     SP  SAO PAULO           VL CLEMENTINO  GASOLINA ADITIVADA   \n",
       "51599      SE     SP  SAO PAULO           VL CLEMENTINO  GASOLINA ADITIVADA   \n",
       "62188      SE     SP  SAO PAULO           VL CLEMENTINO  GASOLINA ADITIVADA   \n",
       "72837      SE     SP  SAO PAULO           VL CLEMENTINO  GASOLINA ADITIVADA   \n",
       "84151      SE     SP  SAO PAULO           VL CLEMENTINO  GASOLINA ADITIVADA   \n",
       "94944      SE     SP  SAO PAULO           VL CLEMENTINO  GASOLINA ADITIVADA   \n",
       "105783     SE     SP  SAO PAULO           VL CLEMENTINO  GASOLINA ADITIVADA   \n",
       "\n",
       "       Data_Coleta  Valor_Venda  Valor_Compra Unidade_Medida  \n",
       "105005  2023-03-13         8.97           NaN     R$ / litro  \n",
       "131860  2023-03-28         8.97           NaN     R$ / litro  \n",
       "899     2023-01-02         7.99           NaN     R$ / litro  \n",
       "1018    2023-01-02         7.99           NaN     R$ / litro  \n",
       "1187    2023-01-02         7.99           NaN     R$ / litro  \n",
       "10376   2023-01-09         7.99           NaN     R$ / litro  \n",
       "20241   2023-01-16         7.99           NaN     R$ / litro  \n",
       "30327   2023-01-23         7.99           NaN     R$ / litro  \n",
       "41134   2023-01-30         7.99           NaN     R$ / litro  \n",
       "51599   2023-02-06         7.99           NaN     R$ / litro  \n",
       "62188   2023-02-13         7.99           NaN     R$ / litro  \n",
       "72837   2023-02-20         7.99           NaN     R$ / litro  \n",
       "84151   2023-02-27         7.99           NaN     R$ / litro  \n",
       "94944   2023-03-06         7.99           NaN     R$ / litro  \n",
       "105783  2023-03-13         7.99           NaN     R$ / litro  "
      ]
     },
     "execution_count": 39,
     "metadata": {},
     "output_type": "execute_result"
    }
   ],
   "source": [
    "# Exibindo os maiores preços do Gasolina Aditivada.  \n",
    "df_gasolina_adit.nlargest(15, \"Valor_Venda\")"
   ]
  },
  {
   "cell_type": "code",
   "execution_count": 40,
   "id": "07143b7b",
   "metadata": {},
   "outputs": [
    {
     "data": {
      "text/html": [
       "<div>\n",
       "<style scoped>\n",
       "    .dataframe tbody tr th:only-of-type {\n",
       "        vertical-align: middle;\n",
       "    }\n",
       "\n",
       "    .dataframe tbody tr th {\n",
       "        vertical-align: top;\n",
       "    }\n",
       "\n",
       "    .dataframe thead th {\n",
       "        text-align: right;\n",
       "    }\n",
       "</style>\n",
       "<table border=\"1\" class=\"dataframe\">\n",
       "  <thead>\n",
       "    <tr style=\"text-align: right;\">\n",
       "      <th></th>\n",
       "      <th>Regiao</th>\n",
       "      <th>Estado</th>\n",
       "      <th>Municipio</th>\n",
       "      <th>Bairro</th>\n",
       "      <th>Produto</th>\n",
       "      <th>Data_Coleta</th>\n",
       "      <th>Valor_Venda</th>\n",
       "      <th>Valor_Compra</th>\n",
       "      <th>Unidade_Medida</th>\n",
       "    </tr>\n",
       "  </thead>\n",
       "  <tbody>\n",
       "    <tr>\n",
       "      <th>42082</th>\n",
       "      <td>SE</td>\n",
       "      <td>SP</td>\n",
       "      <td>PRESIDENTE PRUDENTE</td>\n",
       "      <td>PARQUE CEDRAL</td>\n",
       "      <td>GASOLINA ADITIVADA</td>\n",
       "      <td>2023-01-30</td>\n",
       "      <td>3.47</td>\n",
       "      <td>NaN</td>\n",
       "      <td>R$ / litro</td>\n",
       "    </tr>\n",
       "    <tr>\n",
       "      <th>23572</th>\n",
       "      <td>SE</td>\n",
       "      <td>SP</td>\n",
       "      <td>SOROCABA</td>\n",
       "      <td>PARQUE BOA VISTA</td>\n",
       "      <td>GASOLINA ADITIVADA</td>\n",
       "      <td>2023-01-17</td>\n",
       "      <td>3.49</td>\n",
       "      <td>NaN</td>\n",
       "      <td>R$ / litro</td>\n",
       "    </tr>\n",
       "    <tr>\n",
       "      <th>44611</th>\n",
       "      <td>SE</td>\n",
       "      <td>SP</td>\n",
       "      <td>SOROCABA</td>\n",
       "      <td>ALEM LINHA</td>\n",
       "      <td>GASOLINA ADITIVADA</td>\n",
       "      <td>2023-01-31</td>\n",
       "      <td>3.53</td>\n",
       "      <td>NaN</td>\n",
       "      <td>R$ / litro</td>\n",
       "    </tr>\n",
       "    <tr>\n",
       "      <th>37518</th>\n",
       "      <td>NE</td>\n",
       "      <td>MA</td>\n",
       "      <td>ACAILANDIA</td>\n",
       "      <td>GETAT</td>\n",
       "      <td>GASOLINA ADITIVADA</td>\n",
       "      <td>2023-01-25</td>\n",
       "      <td>3.57</td>\n",
       "      <td>NaN</td>\n",
       "      <td>R$ / litro</td>\n",
       "    </tr>\n",
       "    <tr>\n",
       "      <th>56388</th>\n",
       "      <td>CO</td>\n",
       "      <td>DF</td>\n",
       "      <td>BRASILIA</td>\n",
       "      <td>RECANTO DAS EMAS</td>\n",
       "      <td>GASOLINA ADITIVADA</td>\n",
       "      <td>2023-02-07</td>\n",
       "      <td>3.89</td>\n",
       "      <td>NaN</td>\n",
       "      <td>R$ / litro</td>\n",
       "    </tr>\n",
       "    <tr>\n",
       "      <th>18952</th>\n",
       "      <td>SE</td>\n",
       "      <td>ES</td>\n",
       "      <td>VILA VELHA</td>\n",
       "      <td>GLORIA</td>\n",
       "      <td>GASOLINA ADITIVADA</td>\n",
       "      <td>2023-01-16</td>\n",
       "      <td>3.99</td>\n",
       "      <td>NaN</td>\n",
       "      <td>R$ / litro</td>\n",
       "    </tr>\n",
       "    <tr>\n",
       "      <th>46193</th>\n",
       "      <td>SE</td>\n",
       "      <td>MG</td>\n",
       "      <td>BETIM</td>\n",
       "      <td>SANTO ANTONIO</td>\n",
       "      <td>GASOLINA ADITIVADA</td>\n",
       "      <td>2023-01-31</td>\n",
       "      <td>4.09</td>\n",
       "      <td>NaN</td>\n",
       "      <td>R$ / litro</td>\n",
       "    </tr>\n",
       "    <tr>\n",
       "      <th>46621</th>\n",
       "      <td>SE</td>\n",
       "      <td>SP</td>\n",
       "      <td>MIRASSOL</td>\n",
       "      <td>CENTRO</td>\n",
       "      <td>GASOLINA ADITIVADA</td>\n",
       "      <td>2023-01-31</td>\n",
       "      <td>4.19</td>\n",
       "      <td>NaN</td>\n",
       "      <td>R$ / litro</td>\n",
       "    </tr>\n",
       "    <tr>\n",
       "      <th>84957</th>\n",
       "      <td>SE</td>\n",
       "      <td>SP</td>\n",
       "      <td>FRANCA</td>\n",
       "      <td>VILA APARECIDA</td>\n",
       "      <td>GASOLINA ADITIVADA</td>\n",
       "      <td>2023-02-27</td>\n",
       "      <td>4.19</td>\n",
       "      <td>NaN</td>\n",
       "      <td>R$ / litro</td>\n",
       "    </tr>\n",
       "    <tr>\n",
       "      <th>52702</th>\n",
       "      <td>SE</td>\n",
       "      <td>SP</td>\n",
       "      <td>RIBEIRAO PRETO</td>\n",
       "      <td>CAMPOS ELISEOS</td>\n",
       "      <td>GASOLINA ADITIVADA</td>\n",
       "      <td>2023-02-06</td>\n",
       "      <td>4.26</td>\n",
       "      <td>NaN</td>\n",
       "      <td>R$ / litro</td>\n",
       "    </tr>\n",
       "    <tr>\n",
       "      <th>61755</th>\n",
       "      <td>SE</td>\n",
       "      <td>SP</td>\n",
       "      <td>RIBEIRAO PRETO</td>\n",
       "      <td>CAMPOS ELISEOS</td>\n",
       "      <td>GASOLINA ADITIVADA</td>\n",
       "      <td>2023-02-13</td>\n",
       "      <td>4.29</td>\n",
       "      <td>NaN</td>\n",
       "      <td>R$ / litro</td>\n",
       "    </tr>\n",
       "    <tr>\n",
       "      <th>63979</th>\n",
       "      <td>SE</td>\n",
       "      <td>ES</td>\n",
       "      <td>VILA VELHA</td>\n",
       "      <td>COBI DE CIMA</td>\n",
       "      <td>GASOLINA ADITIVADA</td>\n",
       "      <td>2023-02-13</td>\n",
       "      <td>4.29</td>\n",
       "      <td>NaN</td>\n",
       "      <td>R$ / litro</td>\n",
       "    </tr>\n",
       "    <tr>\n",
       "      <th>72494</th>\n",
       "      <td>SE</td>\n",
       "      <td>SP</td>\n",
       "      <td>RIBEIRAO PRETO</td>\n",
       "      <td>CAMPOS ELISEOS</td>\n",
       "      <td>GASOLINA ADITIVADA</td>\n",
       "      <td>2023-02-20</td>\n",
       "      <td>4.29</td>\n",
       "      <td>NaN</td>\n",
       "      <td>R$ / litro</td>\n",
       "    </tr>\n",
       "    <tr>\n",
       "      <th>75743</th>\n",
       "      <td>S</td>\n",
       "      <td>PR</td>\n",
       "      <td>LONDRINA</td>\n",
       "      <td>JARDIM PALMARES</td>\n",
       "      <td>GASOLINA ADITIVADA</td>\n",
       "      <td>2023-02-21</td>\n",
       "      <td>4.29</td>\n",
       "      <td>NaN</td>\n",
       "      <td>R$ / litro</td>\n",
       "    </tr>\n",
       "    <tr>\n",
       "      <th>32743</th>\n",
       "      <td>NE</td>\n",
       "      <td>PE</td>\n",
       "      <td>RECIFE</td>\n",
       "      <td>GUABIRABA</td>\n",
       "      <td>GASOLINA ADITIVADA</td>\n",
       "      <td>2023-01-24</td>\n",
       "      <td>4.31</td>\n",
       "      <td>NaN</td>\n",
       "      <td>R$ / litro</td>\n",
       "    </tr>\n",
       "  </tbody>\n",
       "</table>\n",
       "</div>"
      ],
      "text/plain": [
       "      Regiao Estado            Municipio            Bairro  \\\n",
       "42082     SE     SP  PRESIDENTE PRUDENTE     PARQUE CEDRAL   \n",
       "23572     SE     SP             SOROCABA  PARQUE BOA VISTA   \n",
       "44611     SE     SP             SOROCABA        ALEM LINHA   \n",
       "37518     NE     MA           ACAILANDIA             GETAT   \n",
       "56388     CO     DF             BRASILIA  RECANTO DAS EMAS   \n",
       "18952     SE     ES           VILA VELHA            GLORIA   \n",
       "46193     SE     MG                BETIM     SANTO ANTONIO   \n",
       "46621     SE     SP             MIRASSOL            CENTRO   \n",
       "84957     SE     SP               FRANCA    VILA APARECIDA   \n",
       "52702     SE     SP       RIBEIRAO PRETO    CAMPOS ELISEOS   \n",
       "61755     SE     SP       RIBEIRAO PRETO    CAMPOS ELISEOS   \n",
       "63979     SE     ES           VILA VELHA      COBI DE CIMA   \n",
       "72494     SE     SP       RIBEIRAO PRETO    CAMPOS ELISEOS   \n",
       "75743      S     PR             LONDRINA   JARDIM PALMARES   \n",
       "32743     NE     PE               RECIFE         GUABIRABA   \n",
       "\n",
       "                  Produto Data_Coleta  Valor_Venda  Valor_Compra  \\\n",
       "42082  GASOLINA ADITIVADA  2023-01-30         3.47           NaN   \n",
       "23572  GASOLINA ADITIVADA  2023-01-17         3.49           NaN   \n",
       "44611  GASOLINA ADITIVADA  2023-01-31         3.53           NaN   \n",
       "37518  GASOLINA ADITIVADA  2023-01-25         3.57           NaN   \n",
       "56388  GASOLINA ADITIVADA  2023-02-07         3.89           NaN   \n",
       "18952  GASOLINA ADITIVADA  2023-01-16         3.99           NaN   \n",
       "46193  GASOLINA ADITIVADA  2023-01-31         4.09           NaN   \n",
       "46621  GASOLINA ADITIVADA  2023-01-31         4.19           NaN   \n",
       "84957  GASOLINA ADITIVADA  2023-02-27         4.19           NaN   \n",
       "52702  GASOLINA ADITIVADA  2023-02-06         4.26           NaN   \n",
       "61755  GASOLINA ADITIVADA  2023-02-13         4.29           NaN   \n",
       "63979  GASOLINA ADITIVADA  2023-02-13         4.29           NaN   \n",
       "72494  GASOLINA ADITIVADA  2023-02-20         4.29           NaN   \n",
       "75743  GASOLINA ADITIVADA  2023-02-21         4.29           NaN   \n",
       "32743  GASOLINA ADITIVADA  2023-01-24         4.31           NaN   \n",
       "\n",
       "      Unidade_Medida  \n",
       "42082     R$ / litro  \n",
       "23572     R$ / litro  \n",
       "44611     R$ / litro  \n",
       "37518     R$ / litro  \n",
       "56388     R$ / litro  \n",
       "18952     R$ / litro  \n",
       "46193     R$ / litro  \n",
       "46621     R$ / litro  \n",
       "84957     R$ / litro  \n",
       "52702     R$ / litro  \n",
       "61755     R$ / litro  \n",
       "63979     R$ / litro  \n",
       "72494     R$ / litro  \n",
       "75743     R$ / litro  \n",
       "32743     R$ / litro  "
      ]
     },
     "execution_count": 40,
     "metadata": {},
     "output_type": "execute_result"
    }
   ],
   "source": [
    "# Exibindo os menores preços do Gasolina Aditivada.  \n",
    "df_gasolina_adit.nsmallest(15, \"Valor_Venda\")"
   ]
  },
  {
   "cell_type": "code",
   "execution_count": 41,
   "id": "656f798c",
   "metadata": {},
   "outputs": [
    {
     "data": {
      "text/plain": [
       "(60, 9)"
      ]
     },
     "execution_count": 41,
     "metadata": {},
     "output_type": "execute_result"
    }
   ],
   "source": [
    "# Filtrar os valores outliers superior e identificar a quantidade de registros que deverão ser removidos\n",
    "gasolina_adit_outlierHigh = df_gasolina_adit.loc[df_gasolina_adit.Valor_Venda >= 7.20]\n",
    "gasolina_adit_outlierHigh.shape"
   ]
  },
  {
   "cell_type": "code",
   "execution_count": 42,
   "id": "b6bb02e9",
   "metadata": {},
   "outputs": [
    {
     "data": {
      "text/plain": [
       "(7, 9)"
      ]
     },
     "execution_count": 42,
     "metadata": {},
     "output_type": "execute_result"
    }
   ],
   "source": [
    "# Filtrar os valores outliers e identificar a quantidade de registros que deverão ser removidos\n",
    "gasolina_adit_outlierLow = df_gasolina_adit.loc[df_gasolina_adit.Valor_Venda <= 4.10]\n",
    "gasolina_adit_outlierLow.shape"
   ]
  },
  {
   "cell_type": "code",
   "execution_count": 43,
   "id": "f91f2358",
   "metadata": {},
   "outputs": [
    {
     "data": {
      "text/plain": [
       "(40885, 9)"
      ]
     },
     "execution_count": 43,
     "metadata": {},
     "output_type": "execute_result"
    }
   ],
   "source": [
    "# Verficação do Tamanho do dataframe temporário\n",
    "df_gasolina_adit.shape"
   ]
  },
  {
   "cell_type": "code",
   "execution_count": 44,
   "id": "b0cba5cd",
   "metadata": {},
   "outputs": [],
   "source": [
    "# Remoção dos registros outliers superior no dataframe temporário\n",
    "df_gasolina_adit = df_gasolina_adit.drop(gasolina_adit_outlierHigh.index)"
   ]
  },
  {
   "cell_type": "code",
   "execution_count": 45,
   "id": "d952b68d",
   "metadata": {},
   "outputs": [],
   "source": [
    "# Remoção dos registros outliers inferior no dataframe temporário\n",
    "df_gasolina_adit = df_gasolina_adit.drop(gasolina_adit_outlierLow.index)"
   ]
  },
  {
   "cell_type": "code",
   "execution_count": 46,
   "id": "75f83467",
   "metadata": {},
   "outputs": [
    {
     "data": {
      "text/plain": [
       "(40818, 9)"
      ]
     },
     "execution_count": 46,
     "metadata": {},
     "output_type": "execute_result"
    }
   ],
   "source": [
    "# Verficação do Tamanho do dataframe temporário após remoção dos outliers\n",
    "df_gasolina_adit.shape"
   ]
  },
  {
   "cell_type": "code",
   "execution_count": 47,
   "id": "c5f255a8",
   "metadata": {},
   "outputs": [
    {
     "data": {
      "image/png": "[encoded data removed]",
      "text/plain": [
       "<Figure size 432x288 with 1 Axes>"
      ]
     },
     "metadata": {
      "needs_background": "light"
     },
     "output_type": "display_data"
    }
   ],
   "source": [
    "# Verificação do Produto Gasolina Aditivada após tratamento de outliers\n",
    "sns.boxplot(df_gasolina_adit.Valor_Venda)\n",
    "plt.title(\"Distribuição dos Preços da Gasolina Aditivada\\n\")\n",
    "plt.show()"
   ]
  },
  {
   "cell_type": "code",
   "execution_count": 48,
   "id": "9863001d",
   "metadata": {},
   "outputs": [
    {
     "data": {
      "text/html": [
       "<div>\n",
       "<style scoped>\n",
       "    .dataframe tbody tr th:only-of-type {\n",
       "        vertical-align: middle;\n",
       "    }\n",
       "\n",
       "    .dataframe tbody tr th {\n",
       "        vertical-align: top;\n",
       "    }\n",
       "\n",
       "    .dataframe thead th {\n",
       "        text-align: right;\n",
       "    }\n",
       "</style>\n",
       "<table border=\"1\" class=\"dataframe\">\n",
       "  <thead>\n",
       "    <tr style=\"text-align: right;\">\n",
       "      <th></th>\n",
       "      <th>Regiao</th>\n",
       "      <th>Estado</th>\n",
       "      <th>Municipio</th>\n",
       "      <th>Bairro</th>\n",
       "      <th>Produto</th>\n",
       "      <th>Data_Coleta</th>\n",
       "      <th>Valor_Venda</th>\n",
       "      <th>Valor_Compra</th>\n",
       "      <th>Unidade_Medida</th>\n",
       "    </tr>\n",
       "  </thead>\n",
       "  <tbody>\n",
       "    <tr>\n",
       "      <th>100272</th>\n",
       "      <td>N</td>\n",
       "      <td>AM</td>\n",
       "      <td>PARINTINS</td>\n",
       "      <td>CENTRO</td>\n",
       "      <td>GASOLINA ADITIVADA</td>\n",
       "      <td>2023-03-08</td>\n",
       "      <td>7.09</td>\n",
       "      <td>NaN</td>\n",
       "      <td>R$ / litro</td>\n",
       "    </tr>\n",
       "    <tr>\n",
       "      <th>101871</th>\n",
       "      <td>N</td>\n",
       "      <td>AM</td>\n",
       "      <td>PARINTINS</td>\n",
       "      <td>SAO BENEDITO</td>\n",
       "      <td>GASOLINA ADITIVADA</td>\n",
       "      <td>2023-03-08</td>\n",
       "      <td>7.09</td>\n",
       "      <td>NaN</td>\n",
       "      <td>R$ / litro</td>\n",
       "    </tr>\n",
       "    <tr>\n",
       "      <th>102053</th>\n",
       "      <td>N</td>\n",
       "      <td>AM</td>\n",
       "      <td>PARINTINS</td>\n",
       "      <td>ITAUNA I</td>\n",
       "      <td>GASOLINA ADITIVADA</td>\n",
       "      <td>2023-03-08</td>\n",
       "      <td>7.09</td>\n",
       "      <td>NaN</td>\n",
       "      <td>R$ / litro</td>\n",
       "    </tr>\n",
       "    <tr>\n",
       "      <th>102563</th>\n",
       "      <td>N</td>\n",
       "      <td>AM</td>\n",
       "      <td>PARINTINS</td>\n",
       "      <td>CENTRO</td>\n",
       "      <td>GASOLINA ADITIVADA</td>\n",
       "      <td>2023-03-08</td>\n",
       "      <td>7.09</td>\n",
       "      <td>NaN</td>\n",
       "      <td>R$ / litro</td>\n",
       "    </tr>\n",
       "    <tr>\n",
       "      <th>102440</th>\n",
       "      <td>NE</td>\n",
       "      <td>AL</td>\n",
       "      <td>DELMIRO GOUVEIA</td>\n",
       "      <td>CENTRO</td>\n",
       "      <td>GASOLINA ADITIVADA</td>\n",
       "      <td>2023-03-08</td>\n",
       "      <td>7.04</td>\n",
       "      <td>NaN</td>\n",
       "      <td>R$ / litro</td>\n",
       "    </tr>\n",
       "    <tr>\n",
       "      <th>107391</th>\n",
       "      <td>NE</td>\n",
       "      <td>AL</td>\n",
       "      <td>DELMIRO GOUVEIA</td>\n",
       "      <td>CENTRO</td>\n",
       "      <td>GASOLINA ADITIVADA</td>\n",
       "      <td>2023-03-13</td>\n",
       "      <td>7.04</td>\n",
       "      <td>NaN</td>\n",
       "      <td>R$ / litro</td>\n",
       "    </tr>\n",
       "    <tr>\n",
       "      <th>118473</th>\n",
       "      <td>NE</td>\n",
       "      <td>AL</td>\n",
       "      <td>DELMIRO GOUVEIA</td>\n",
       "      <td>CENTRO</td>\n",
       "      <td>GASOLINA ADITIVADA</td>\n",
       "      <td>2023-03-20</td>\n",
       "      <td>7.04</td>\n",
       "      <td>NaN</td>\n",
       "      <td>R$ / litro</td>\n",
       "    </tr>\n",
       "    <tr>\n",
       "      <th>133075</th>\n",
       "      <td>NE</td>\n",
       "      <td>AL</td>\n",
       "      <td>DELMIRO GOUVEIA</td>\n",
       "      <td>CENTRO</td>\n",
       "      <td>GASOLINA ADITIVADA</td>\n",
       "      <td>2023-03-28</td>\n",
       "      <td>7.04</td>\n",
       "      <td>NaN</td>\n",
       "      <td>R$ / litro</td>\n",
       "    </tr>\n",
       "    <tr>\n",
       "      <th>38158</th>\n",
       "      <td>NE</td>\n",
       "      <td>BA</td>\n",
       "      <td>JEQUIE</td>\n",
       "      <td>CENTRO</td>\n",
       "      <td>GASOLINA ADITIVADA</td>\n",
       "      <td>2023-01-26</td>\n",
       "      <td>7.00</td>\n",
       "      <td>NaN</td>\n",
       "      <td>R$ / litro</td>\n",
       "    </tr>\n",
       "    <tr>\n",
       "      <th>80027</th>\n",
       "      <td>NE</td>\n",
       "      <td>BA</td>\n",
       "      <td>JEQUIE</td>\n",
       "      <td>CENTRO</td>\n",
       "      <td>GASOLINA ADITIVADA</td>\n",
       "      <td>2023-02-23</td>\n",
       "      <td>7.00</td>\n",
       "      <td>NaN</td>\n",
       "      <td>R$ / litro</td>\n",
       "    </tr>\n",
       "    <tr>\n",
       "      <th>86256</th>\n",
       "      <td>NE</td>\n",
       "      <td>BA</td>\n",
       "      <td>JEQUIE</td>\n",
       "      <td>CENTRO</td>\n",
       "      <td>GASOLINA ADITIVADA</td>\n",
       "      <td>2023-02-28</td>\n",
       "      <td>7.00</td>\n",
       "      <td>NaN</td>\n",
       "      <td>R$ / litro</td>\n",
       "    </tr>\n",
       "    <tr>\n",
       "      <th>1005</th>\n",
       "      <td>SE</td>\n",
       "      <td>SP</td>\n",
       "      <td>SAO PAULO</td>\n",
       "      <td>BARRA FUNDA</td>\n",
       "      <td>GASOLINA ADITIVADA</td>\n",
       "      <td>2023-01-02</td>\n",
       "      <td>6.99</td>\n",
       "      <td>NaN</td>\n",
       "      <td>R$ / litro</td>\n",
       "    </tr>\n",
       "    <tr>\n",
       "      <th>1891</th>\n",
       "      <td>SE</td>\n",
       "      <td>SP</td>\n",
       "      <td>SAO PAULO</td>\n",
       "      <td>CONSOLACAO</td>\n",
       "      <td>GASOLINA ADITIVADA</td>\n",
       "      <td>2023-01-02</td>\n",
       "      <td>6.99</td>\n",
       "      <td>NaN</td>\n",
       "      <td>R$ / litro</td>\n",
       "    </tr>\n",
       "    <tr>\n",
       "      <th>1930</th>\n",
       "      <td>SE</td>\n",
       "      <td>SP</td>\n",
       "      <td>SAO PAULO</td>\n",
       "      <td>SANTANA</td>\n",
       "      <td>GASOLINA ADITIVADA</td>\n",
       "      <td>2023-01-02</td>\n",
       "      <td>6.99</td>\n",
       "      <td>NaN</td>\n",
       "      <td>R$ / litro</td>\n",
       "    </tr>\n",
       "    <tr>\n",
       "      <th>4229</th>\n",
       "      <td>SE</td>\n",
       "      <td>SP</td>\n",
       "      <td>BARUERI</td>\n",
       "      <td>ALPHAVILLE</td>\n",
       "      <td>GASOLINA ADITIVADA</td>\n",
       "      <td>2023-01-03</td>\n",
       "      <td>6.99</td>\n",
       "      <td>NaN</td>\n",
       "      <td>R$ / litro</td>\n",
       "    </tr>\n",
       "  </tbody>\n",
       "</table>\n",
       "</div>"
      ],
      "text/plain": [
       "       Regiao Estado        Municipio        Bairro             Produto  \\\n",
       "100272      N     AM        PARINTINS        CENTRO  GASOLINA ADITIVADA   \n",
       "101871      N     AM        PARINTINS  SAO BENEDITO  GASOLINA ADITIVADA   \n",
       "102053      N     AM        PARINTINS      ITAUNA I  GASOLINA ADITIVADA   \n",
       "102563      N     AM        PARINTINS        CENTRO  GASOLINA ADITIVADA   \n",
       "102440     NE     AL  DELMIRO GOUVEIA        CENTRO  GASOLINA ADITIVADA   \n",
       "107391     NE     AL  DELMIRO GOUVEIA        CENTRO  GASOLINA ADITIVADA   \n",
       "118473     NE     AL  DELMIRO GOUVEIA        CENTRO  GASOLINA ADITIVADA   \n",
       "133075     NE     AL  DELMIRO GOUVEIA        CENTRO  GASOLINA ADITIVADA   \n",
       "38158      NE     BA           JEQUIE        CENTRO  GASOLINA ADITIVADA   \n",
       "80027      NE     BA           JEQUIE        CENTRO  GASOLINA ADITIVADA   \n",
       "86256      NE     BA           JEQUIE        CENTRO  GASOLINA ADITIVADA   \n",
       "1005       SE     SP        SAO PAULO   BARRA FUNDA  GASOLINA ADITIVADA   \n",
       "1891       SE     SP        SAO PAULO    CONSOLACAO  GASOLINA ADITIVADA   \n",
       "1930       SE     SP        SAO PAULO       SANTANA  GASOLINA ADITIVADA   \n",
       "4229       SE     SP          BARUERI    ALPHAVILLE  GASOLINA ADITIVADA   \n",
       "\n",
       "       Data_Coleta  Valor_Venda  Valor_Compra Unidade_Medida  \n",
       "100272  2023-03-08         7.09           NaN     R$ / litro  \n",
       "101871  2023-03-08         7.09           NaN     R$ / litro  \n",
       "102053  2023-03-08         7.09           NaN     R$ / litro  \n",
       "102563  2023-03-08         7.09           NaN     R$ / litro  \n",
       "102440  2023-03-08         7.04           NaN     R$ / litro  \n",
       "107391  2023-03-13         7.04           NaN     R$ / litro  \n",
       "118473  2023-03-20         7.04           NaN     R$ / litro  \n",
       "133075  2023-03-28         7.04           NaN     R$ / litro  \n",
       "38158   2023-01-26         7.00           NaN     R$ / litro  \n",
       "80027   2023-02-23         7.00           NaN     R$ / litro  \n",
       "86256   2023-02-28         7.00           NaN     R$ / litro  \n",
       "1005    2023-01-02         6.99           NaN     R$ / litro  \n",
       "1891    2023-01-02         6.99           NaN     R$ / litro  \n",
       "1930    2023-01-02         6.99           NaN     R$ / litro  \n",
       "4229    2023-01-03         6.99           NaN     R$ / litro  "
      ]
     },
     "execution_count": 48,
     "metadata": {},
     "output_type": "execute_result"
    }
   ],
   "source": [
    "# Exibindo os maiores preços do Gasolina Aditivada após tratamento de outliers.  \n",
    "df_gasolina_adit.nlargest(15, \"Valor_Venda\")"
   ]
  },
  {
   "cell_type": "code",
   "execution_count": 49,
   "id": "2949123a",
   "metadata": {},
   "outputs": [
    {
     "data": {
      "text/html": [
       "<div>\n",
       "<style scoped>\n",
       "    .dataframe tbody tr th:only-of-type {\n",
       "        vertical-align: middle;\n",
       "    }\n",
       "\n",
       "    .dataframe tbody tr th {\n",
       "        vertical-align: top;\n",
       "    }\n",
       "\n",
       "    .dataframe thead th {\n",
       "        text-align: right;\n",
       "    }\n",
       "</style>\n",
       "<table border=\"1\" class=\"dataframe\">\n",
       "  <thead>\n",
       "    <tr style=\"text-align: right;\">\n",
       "      <th></th>\n",
       "      <th>Regiao</th>\n",
       "      <th>Estado</th>\n",
       "      <th>Municipio</th>\n",
       "      <th>Bairro</th>\n",
       "      <th>Produto</th>\n",
       "      <th>Data_Coleta</th>\n",
       "      <th>Valor_Venda</th>\n",
       "      <th>Valor_Compra</th>\n",
       "      <th>Unidade_Medida</th>\n",
       "    </tr>\n",
       "  </thead>\n",
       "  <tbody>\n",
       "    <tr>\n",
       "      <th>46621</th>\n",
       "      <td>SE</td>\n",
       "      <td>SP</td>\n",
       "      <td>MIRASSOL</td>\n",
       "      <td>CENTRO</td>\n",
       "      <td>GASOLINA ADITIVADA</td>\n",
       "      <td>2023-01-31</td>\n",
       "      <td>4.19</td>\n",
       "      <td>NaN</td>\n",
       "      <td>R$ / litro</td>\n",
       "    </tr>\n",
       "    <tr>\n",
       "      <th>84957</th>\n",
       "      <td>SE</td>\n",
       "      <td>SP</td>\n",
       "      <td>FRANCA</td>\n",
       "      <td>VILA APARECIDA</td>\n",
       "      <td>GASOLINA ADITIVADA</td>\n",
       "      <td>2023-02-27</td>\n",
       "      <td>4.19</td>\n",
       "      <td>NaN</td>\n",
       "      <td>R$ / litro</td>\n",
       "    </tr>\n",
       "    <tr>\n",
       "      <th>52702</th>\n",
       "      <td>SE</td>\n",
       "      <td>SP</td>\n",
       "      <td>RIBEIRAO PRETO</td>\n",
       "      <td>CAMPOS ELISEOS</td>\n",
       "      <td>GASOLINA ADITIVADA</td>\n",
       "      <td>2023-02-06</td>\n",
       "      <td>4.26</td>\n",
       "      <td>NaN</td>\n",
       "      <td>R$ / litro</td>\n",
       "    </tr>\n",
       "    <tr>\n",
       "      <th>61755</th>\n",
       "      <td>SE</td>\n",
       "      <td>SP</td>\n",
       "      <td>RIBEIRAO PRETO</td>\n",
       "      <td>CAMPOS ELISEOS</td>\n",
       "      <td>GASOLINA ADITIVADA</td>\n",
       "      <td>2023-02-13</td>\n",
       "      <td>4.29</td>\n",
       "      <td>NaN</td>\n",
       "      <td>R$ / litro</td>\n",
       "    </tr>\n",
       "    <tr>\n",
       "      <th>63979</th>\n",
       "      <td>SE</td>\n",
       "      <td>ES</td>\n",
       "      <td>VILA VELHA</td>\n",
       "      <td>COBI DE CIMA</td>\n",
       "      <td>GASOLINA ADITIVADA</td>\n",
       "      <td>2023-02-13</td>\n",
       "      <td>4.29</td>\n",
       "      <td>NaN</td>\n",
       "      <td>R$ / litro</td>\n",
       "    </tr>\n",
       "    <tr>\n",
       "      <th>72494</th>\n",
       "      <td>SE</td>\n",
       "      <td>SP</td>\n",
       "      <td>RIBEIRAO PRETO</td>\n",
       "      <td>CAMPOS ELISEOS</td>\n",
       "      <td>GASOLINA ADITIVADA</td>\n",
       "      <td>2023-02-20</td>\n",
       "      <td>4.29</td>\n",
       "      <td>NaN</td>\n",
       "      <td>R$ / litro</td>\n",
       "    </tr>\n",
       "    <tr>\n",
       "      <th>75743</th>\n",
       "      <td>S</td>\n",
       "      <td>PR</td>\n",
       "      <td>LONDRINA</td>\n",
       "      <td>JARDIM PALMARES</td>\n",
       "      <td>GASOLINA ADITIVADA</td>\n",
       "      <td>2023-02-21</td>\n",
       "      <td>4.29</td>\n",
       "      <td>NaN</td>\n",
       "      <td>R$ / litro</td>\n",
       "    </tr>\n",
       "    <tr>\n",
       "      <th>32743</th>\n",
       "      <td>NE</td>\n",
       "      <td>PE</td>\n",
       "      <td>RECIFE</td>\n",
       "      <td>GUABIRABA</td>\n",
       "      <td>GASOLINA ADITIVADA</td>\n",
       "      <td>2023-01-24</td>\n",
       "      <td>4.31</td>\n",
       "      <td>NaN</td>\n",
       "      <td>R$ / litro</td>\n",
       "    </tr>\n",
       "    <tr>\n",
       "      <th>31387</th>\n",
       "      <td>SE</td>\n",
       "      <td>SP</td>\n",
       "      <td>SAO JOSE DOS CAMPOS</td>\n",
       "      <td>CENTRO</td>\n",
       "      <td>GASOLINA ADITIVADA</td>\n",
       "      <td>2023-01-23</td>\n",
       "      <td>4.33</td>\n",
       "      <td>NaN</td>\n",
       "      <td>R$ / litro</td>\n",
       "    </tr>\n",
       "    <tr>\n",
       "      <th>52570</th>\n",
       "      <td>SE</td>\n",
       "      <td>SP</td>\n",
       "      <td>RIBEIRAO PRETO</td>\n",
       "      <td>CENTRO</td>\n",
       "      <td>GASOLINA ADITIVADA</td>\n",
       "      <td>2023-02-06</td>\n",
       "      <td>4.33</td>\n",
       "      <td>NaN</td>\n",
       "      <td>R$ / litro</td>\n",
       "    </tr>\n",
       "    <tr>\n",
       "      <th>64782</th>\n",
       "      <td>NE</td>\n",
       "      <td>PE</td>\n",
       "      <td>VITORIA DE SANTO ANTAO</td>\n",
       "      <td>ZONA RURAL</td>\n",
       "      <td>GASOLINA ADITIVADA</td>\n",
       "      <td>2023-02-14</td>\n",
       "      <td>4.33</td>\n",
       "      <td>NaN</td>\n",
       "      <td>R$ / litro</td>\n",
       "    </tr>\n",
       "    <tr>\n",
       "      <th>74691</th>\n",
       "      <td>NE</td>\n",
       "      <td>PE</td>\n",
       "      <td>VITORIA DE SANTO ANTAO</td>\n",
       "      <td>ZONA RURAL</td>\n",
       "      <td>GASOLINA ADITIVADA</td>\n",
       "      <td>2023-02-21</td>\n",
       "      <td>4.33</td>\n",
       "      <td>NaN</td>\n",
       "      <td>R$ / litro</td>\n",
       "    </tr>\n",
       "    <tr>\n",
       "      <th>83620</th>\n",
       "      <td>SE</td>\n",
       "      <td>SP</td>\n",
       "      <td>RIBEIRAO PRETO</td>\n",
       "      <td>CAMPOS ELISEOS</td>\n",
       "      <td>GASOLINA ADITIVADA</td>\n",
       "      <td>2023-02-27</td>\n",
       "      <td>4.33</td>\n",
       "      <td>NaN</td>\n",
       "      <td>R$ / litro</td>\n",
       "    </tr>\n",
       "    <tr>\n",
       "      <th>20044</th>\n",
       "      <td>SE</td>\n",
       "      <td>SP</td>\n",
       "      <td>SAO PAULO</td>\n",
       "      <td>JAGUARE</td>\n",
       "      <td>GASOLINA ADITIVADA</td>\n",
       "      <td>2023-01-16</td>\n",
       "      <td>4.34</td>\n",
       "      <td>NaN</td>\n",
       "      <td>R$ / litro</td>\n",
       "    </tr>\n",
       "    <tr>\n",
       "      <th>30254</th>\n",
       "      <td>SE</td>\n",
       "      <td>SP</td>\n",
       "      <td>SAO PAULO</td>\n",
       "      <td>JARDIM ALFREDO</td>\n",
       "      <td>GASOLINA ADITIVADA</td>\n",
       "      <td>2023-01-23</td>\n",
       "      <td>4.39</td>\n",
       "      <td>NaN</td>\n",
       "      <td>R$ / litro</td>\n",
       "    </tr>\n",
       "  </tbody>\n",
       "</table>\n",
       "</div>"
      ],
      "text/plain": [
       "      Regiao Estado               Municipio           Bairro  \\\n",
       "46621     SE     SP                MIRASSOL           CENTRO   \n",
       "84957     SE     SP                  FRANCA   VILA APARECIDA   \n",
       "52702     SE     SP          RIBEIRAO PRETO   CAMPOS ELISEOS   \n",
       "61755     SE     SP          RIBEIRAO PRETO   CAMPOS ELISEOS   \n",
       "63979     SE     ES              VILA VELHA     COBI DE CIMA   \n",
       "72494     SE     SP          RIBEIRAO PRETO   CAMPOS ELISEOS   \n",
       "75743      S     PR                LONDRINA  JARDIM PALMARES   \n",
       "32743     NE     PE                  RECIFE        GUABIRABA   \n",
       "31387     SE     SP     SAO JOSE DOS CAMPOS           CENTRO   \n",
       "52570     SE     SP          RIBEIRAO PRETO           CENTRO   \n",
       "64782     NE     PE  VITORIA DE SANTO ANTAO       ZONA RURAL   \n",
       "74691     NE     PE  VITORIA DE SANTO ANTAO       ZONA RURAL   \n",
       "83620     SE     SP          RIBEIRAO PRETO   CAMPOS ELISEOS   \n",
       "20044     SE     SP               SAO PAULO          JAGUARE   \n",
       "30254     SE     SP               SAO PAULO   JARDIM ALFREDO   \n",
       "\n",
       "                  Produto Data_Coleta  Valor_Venda  Valor_Compra  \\\n",
       "46621  GASOLINA ADITIVADA  2023-01-31         4.19           NaN   \n",
       "84957  GASOLINA ADITIVADA  2023-02-27         4.19           NaN   \n",
       "52702  GASOLINA ADITIVADA  2023-02-06         4.26           NaN   \n",
       "61755  GASOLINA ADITIVADA  2023-02-13         4.29           NaN   \n",
       "63979  GASOLINA ADITIVADA  2023-02-13         4.29           NaN   \n",
       "72494  GASOLINA ADITIVADA  2023-02-20         4.29           NaN   \n",
       "75743  GASOLINA ADITIVADA  2023-02-21         4.29           NaN   \n",
       "32743  GASOLINA ADITIVADA  2023-01-24         4.31           NaN   \n",
       "31387  GASOLINA ADITIVADA  2023-01-23         4.33           NaN   \n",
       "52570  GASOLINA ADITIVADA  2023-02-06         4.33           NaN   \n",
       "64782  GASOLINA ADITIVADA  2023-02-14         4.33           NaN   \n",
       "74691  GASOLINA ADITIVADA  2023-02-21         4.33           NaN   \n",
       "83620  GASOLINA ADITIVADA  2023-02-27         4.33           NaN   \n",
       "20044  GASOLINA ADITIVADA  2023-01-16         4.34           NaN   \n",
       "30254  GASOLINA ADITIVADA  2023-01-23         4.39           NaN   \n",
       "\n",
       "      Unidade_Medida  \n",
       "46621     R$ / litro  \n",
       "84957     R$ / litro  \n",
       "52702     R$ / litro  \n",
       "61755     R$ / litro  \n",
       "63979     R$ / litro  \n",
       "72494     R$ / litro  \n",
       "75743     R$ / litro  \n",
       "32743     R$ / litro  \n",
       "31387     R$ / litro  \n",
       "52570     R$ / litro  \n",
       "64782     R$ / litro  \n",
       "74691     R$ / litro  \n",
       "83620     R$ / litro  \n",
       "20044     R$ / litro  \n",
       "30254     R$ / litro  "
      ]
     },
     "execution_count": 49,
     "metadata": {},
     "output_type": "execute_result"
    }
   ],
   "source": [
    "# Exibindo os menores preços do Gasolina Aditivada após tratamento de outliers.  \n",
    "df_gasolina_adit.nsmallest(15, \"Valor_Venda\")"
   ]
  },
  {
   "cell_type": "markdown",
   "id": "c1b04273",
   "metadata": {},
   "source": [
    "> Conclusão da análise de valores outliers do Produto Gasolina Aditivada:\n",
    ">* Identificamos valores extremos que interferem no preço médio e optei pela remoção dos respectivos registros, pois são apenas 67 registros que representam 0,16 % do total de registros de gasolina aditivada (40885).\n",
    ">* Utilizei como filtro superior o valor de 7.20 e o filtro inferior o valor de 4,10 (R$/litro)\n",
    ">* Neste tópico foi realizado somente a análise de valores outliers e a remoção destes registros será realizada no item de tratamente e limpeza."
   ]
  },
  {
   "cell_type": "markdown",
   "id": "067e7163",
   "metadata": {},
   "source": [
    "### 3.3-Medidas de Tendencia Central"
   ]
  },
  {
   "cell_type": "markdown",
   "id": "93c95937",
   "metadata": {},
   "source": [
    " #### 3.3c-Etanol"
   ]
  },
  {
   "cell_type": "code",
   "execution_count": 50,
   "id": "630103ef",
   "metadata": {},
   "outputs": [
    {
     "data": {
      "text/html": [
       "<div>\n",
       "<style scoped>\n",
       "    .dataframe tbody tr th:only-of-type {\n",
       "        vertical-align: middle;\n",
       "    }\n",
       "\n",
       "    .dataframe tbody tr th {\n",
       "        vertical-align: top;\n",
       "    }\n",
       "\n",
       "    .dataframe thead th {\n",
       "        text-align: right;\n",
       "    }\n",
       "</style>\n",
       "<table border=\"1\" class=\"dataframe\">\n",
       "  <thead>\n",
       "    <tr style=\"text-align: right;\">\n",
       "      <th></th>\n",
       "      <th>Valor_Venda</th>\n",
       "      <th>Valor_Compra</th>\n",
       "    </tr>\n",
       "  </thead>\n",
       "  <tbody>\n",
       "    <tr>\n",
       "      <th>count</th>\n",
       "      <td>45100.00</td>\n",
       "      <td>0.0</td>\n",
       "    </tr>\n",
       "    <tr>\n",
       "      <th>mean</th>\n",
       "      <td>4.07</td>\n",
       "      <td>NaN</td>\n",
       "    </tr>\n",
       "    <tr>\n",
       "      <th>std</th>\n",
       "      <td>0.43</td>\n",
       "      <td>NaN</td>\n",
       "    </tr>\n",
       "    <tr>\n",
       "      <th>min</th>\n",
       "      <td>3.03</td>\n",
       "      <td>NaN</td>\n",
       "    </tr>\n",
       "    <tr>\n",
       "      <th>25%</th>\n",
       "      <td>3.78</td>\n",
       "      <td>NaN</td>\n",
       "    </tr>\n",
       "    <tr>\n",
       "      <th>50%</th>\n",
       "      <td>3.99</td>\n",
       "      <td>NaN</td>\n",
       "    </tr>\n",
       "    <tr>\n",
       "      <th>75%</th>\n",
       "      <td>4.35</td>\n",
       "      <td>NaN</td>\n",
       "    </tr>\n",
       "    <tr>\n",
       "      <th>max</th>\n",
       "      <td>5.99</td>\n",
       "      <td>NaN</td>\n",
       "    </tr>\n",
       "  </tbody>\n",
       "</table>\n",
       "</div>"
      ],
      "text/plain": [
       "       Valor_Venda  Valor_Compra\n",
       "count     45100.00           0.0\n",
       "mean          4.07           NaN\n",
       "std           0.43           NaN\n",
       "min           3.03           NaN\n",
       "25%           3.78           NaN\n",
       "50%           3.99           NaN\n",
       "75%           4.35           NaN\n",
       "max           5.99           NaN"
      ]
     },
     "execution_count": 50,
     "metadata": {},
     "output_type": "execute_result"
    }
   ],
   "source": [
    "# Descrição dos registros do Produto Etanol\n",
    "round(df_etanol.describe(),2)"
   ]
  },
  {
   "cell_type": "code",
   "execution_count": 51,
   "id": "b51b6f00",
   "metadata": {},
   "outputs": [
    {
     "data": {
      "text/plain": [
       "0    3.99\n",
       "dtype: float64"
      ]
     },
     "execution_count": 51,
     "metadata": {},
     "output_type": "execute_result"
    }
   ],
   "source": [
    "# Verificando o valor que mais se repete para o Produto Etanol\n",
    "df_etanol.Valor_Venda.mode()"
   ]
  },
  {
   "cell_type": "markdown",
   "id": "c7d3a3b8",
   "metadata": {},
   "source": [
    "> Podemos conlcuir que o valor de venda do etanol (R$ / litro) no 1º trimestre de 2023:\n",
    ">* varia entre 3,03 a 5,99\n",
    ">* Tem preço médio nacional de 4,07\n",
    ">* O valor central do conjunto de registros é de 3,99\n",
    ">* O valor mais aplicado é de 3,99 \n",
    ">* Tem um desvio padrão de 0.43 indicando que a distribuição dos registros tendem a estar próximo da valor médio\n",
    ">* Para esta análise foi utilizado um conjunto de 45.100 registros"
   ]
  },
  {
   "cell_type": "markdown",
   "id": "1d0f0e76",
   "metadata": {},
   "source": [
    " #### 3.3b-Gasolina "
   ]
  },
  {
   "cell_type": "code",
   "execution_count": 52,
   "id": "6698975c",
   "metadata": {},
   "outputs": [
    {
     "data": {
      "text/html": [
       "<div>\n",
       "<style scoped>\n",
       "    .dataframe tbody tr th:only-of-type {\n",
       "        vertical-align: middle;\n",
       "    }\n",
       "\n",
       "    .dataframe tbody tr th {\n",
       "        vertical-align: top;\n",
       "    }\n",
       "\n",
       "    .dataframe thead th {\n",
       "        text-align: right;\n",
       "    }\n",
       "</style>\n",
       "<table border=\"1\" class=\"dataframe\">\n",
       "  <thead>\n",
       "    <tr style=\"text-align: right;\">\n",
       "      <th></th>\n",
       "      <th>Valor_Venda</th>\n",
       "      <th>Valor_Compra</th>\n",
       "    </tr>\n",
       "  </thead>\n",
       "  <tbody>\n",
       "    <tr>\n",
       "      <th>count</th>\n",
       "      <td>52240.00</td>\n",
       "      <td>0.0</td>\n",
       "    </tr>\n",
       "    <tr>\n",
       "      <th>mean</th>\n",
       "      <td>5.23</td>\n",
       "      <td>NaN</td>\n",
       "    </tr>\n",
       "    <tr>\n",
       "      <th>std</th>\n",
       "      <td>0.40</td>\n",
       "      <td>NaN</td>\n",
       "    </tr>\n",
       "    <tr>\n",
       "      <th>min</th>\n",
       "      <td>4.09</td>\n",
       "      <td>NaN</td>\n",
       "    </tr>\n",
       "    <tr>\n",
       "      <th>25%</th>\n",
       "      <td>4.95</td>\n",
       "      <td>NaN</td>\n",
       "    </tr>\n",
       "    <tr>\n",
       "      <th>50%</th>\n",
       "      <td>5.19</td>\n",
       "      <td>NaN</td>\n",
       "    </tr>\n",
       "    <tr>\n",
       "      <th>75%</th>\n",
       "      <td>5.49</td>\n",
       "      <td>NaN</td>\n",
       "    </tr>\n",
       "    <tr>\n",
       "      <th>max</th>\n",
       "      <td>6.99</td>\n",
       "      <td>NaN</td>\n",
       "    </tr>\n",
       "  </tbody>\n",
       "</table>\n",
       "</div>"
      ],
      "text/plain": [
       "       Valor_Venda  Valor_Compra\n",
       "count     52240.00           0.0\n",
       "mean          5.23           NaN\n",
       "std           0.40           NaN\n",
       "min           4.09           NaN\n",
       "25%           4.95           NaN\n",
       "50%           5.19           NaN\n",
       "75%           5.49           NaN\n",
       "max           6.99           NaN"
      ]
     },
     "execution_count": 52,
     "metadata": {},
     "output_type": "execute_result"
    }
   ],
   "source": [
    "# Descrição dos registros do Produto Gasolina\n",
    "round(df_gasolina.describe(),2)"
   ]
  },
  {
   "cell_type": "code",
   "execution_count": 53,
   "id": "d3a8bcf8",
   "metadata": {},
   "outputs": [
    {
     "data": {
      "text/plain": [
       "0    4.99\n",
       "dtype: float64"
      ]
     },
     "execution_count": 53,
     "metadata": {},
     "output_type": "execute_result"
    }
   ],
   "source": [
    "# Verificando o valor que mais se repete para o Produto Etanol\n",
    "df_gasolina.Valor_Venda.mode()"
   ]
  },
  {
   "cell_type": "markdown",
   "id": "e6ede2b1",
   "metadata": {},
   "source": [
    "> Podemos conlcuir que o valor de venda da gasolina (R$ / litro) no 1º trimestre de 2023:\n",
    ">* varia entre 4,09 a 6,99\n",
    ">* Tem preço médio nacional de 5,23\n",
    ">* O valor central do conjunto de registros é de 5,19\n",
    ">* O valor mais aplicado é de 4,99 \n",
    ">* Tem um desvio padrão de 0.40 indicando que a distribuição dos registros tendem a estar próximo da valor médio\n",
    ">* Para esta análise foi utilizado um conjunto de 52.240 registros"
   ]
  },
  {
   "cell_type": "markdown",
   "id": "08a95274",
   "metadata": {},
   "source": [
    " #### 3.3c-Gasolina Aditivada"
   ]
  },
  {
   "cell_type": "code",
   "execution_count": 54,
   "id": "95ccca65",
   "metadata": {},
   "outputs": [
    {
     "data": {
      "text/html": [
       "<div>\n",
       "<style scoped>\n",
       "    .dataframe tbody tr th:only-of-type {\n",
       "        vertical-align: middle;\n",
       "    }\n",
       "\n",
       "    .dataframe tbody tr th {\n",
       "        vertical-align: top;\n",
       "    }\n",
       "\n",
       "    .dataframe thead th {\n",
       "        text-align: right;\n",
       "    }\n",
       "</style>\n",
       "<table border=\"1\" class=\"dataframe\">\n",
       "  <thead>\n",
       "    <tr style=\"text-align: right;\">\n",
       "      <th></th>\n",
       "      <th>Valor_Venda</th>\n",
       "      <th>Valor_Compra</th>\n",
       "    </tr>\n",
       "  </thead>\n",
       "  <tbody>\n",
       "    <tr>\n",
       "      <th>count</th>\n",
       "      <td>40818.00</td>\n",
       "      <td>0.0</td>\n",
       "    </tr>\n",
       "    <tr>\n",
       "      <th>mean</th>\n",
       "      <td>5.41</td>\n",
       "      <td>NaN</td>\n",
       "    </tr>\n",
       "    <tr>\n",
       "      <th>std</th>\n",
       "      <td>0.41</td>\n",
       "      <td>NaN</td>\n",
       "    </tr>\n",
       "    <tr>\n",
       "      <th>min</th>\n",
       "      <td>4.19</td>\n",
       "      <td>NaN</td>\n",
       "    </tr>\n",
       "    <tr>\n",
       "      <th>25%</th>\n",
       "      <td>5.09</td>\n",
       "      <td>NaN</td>\n",
       "    </tr>\n",
       "    <tr>\n",
       "      <th>50%</th>\n",
       "      <td>5.39</td>\n",
       "      <td>NaN</td>\n",
       "    </tr>\n",
       "    <tr>\n",
       "      <th>75%</th>\n",
       "      <td>5.69</td>\n",
       "      <td>NaN</td>\n",
       "    </tr>\n",
       "    <tr>\n",
       "      <th>max</th>\n",
       "      <td>7.09</td>\n",
       "      <td>NaN</td>\n",
       "    </tr>\n",
       "  </tbody>\n",
       "</table>\n",
       "</div>"
      ],
      "text/plain": [
       "       Valor_Venda  Valor_Compra\n",
       "count     40818.00           0.0\n",
       "mean          5.41           NaN\n",
       "std           0.41           NaN\n",
       "min           4.19           NaN\n",
       "25%           5.09           NaN\n",
       "50%           5.39           NaN\n",
       "75%           5.69           NaN\n",
       "max           7.09           NaN"
      ]
     },
     "execution_count": 54,
     "metadata": {},
     "output_type": "execute_result"
    }
   ],
   "source": [
    "# Descrição dos registros do Produto Gasolina\n",
    "round(df_gasolina_adit.describe(),2)"
   ]
  },
  {
   "cell_type": "code",
   "execution_count": 55,
   "id": "9be41375",
   "metadata": {},
   "outputs": [
    {
     "data": {
      "text/plain": [
       "0    5.19\n",
       "dtype: float64"
      ]
     },
     "execution_count": 55,
     "metadata": {},
     "output_type": "execute_result"
    }
   ],
   "source": [
    "# Verificando o valor que mais se repete para o Produto Etanol\n",
    "df_gasolina_adit.Valor_Venda.mode()"
   ]
  },
  {
   "cell_type": "markdown",
   "id": "2cf870ec",
   "metadata": {},
   "source": [
    "> Podemos conlcuir que o valor de venda da gasolina (R$ / litro) no 1º trimestre de 2023:\n",
    ">* varia entre 4,19 a 7,09\n",
    ">* Tem preço médio nacional de 5,41\n",
    ">* O valor central do conjunto de registros é de 5,39\n",
    ">* O valor mais aplicado é de 5,19 \n",
    ">* Tem um desvio padrão de 0.41 indicando que a distribuição dos registros tendem a estar próximo da valor médio\n",
    ">* Para esta análise foi utilizado um conjunto de 40.818 registros"
   ]
  },
  {
   "cell_type": "markdown",
   "id": "cd022254",
   "metadata": {},
   "source": [
    "## 4-Tratamento e Limpeza"
   ]
  },
  {
   "cell_type": "markdown",
   "id": "b1b64000",
   "metadata": {},
   "source": [
    "### -Tratamento de valores ausentes"
   ]
  },
  {
   "cell_type": "code",
   "execution_count": 56,
   "id": "27522ac3",
   "metadata": {},
   "outputs": [],
   "source": [
    "# Excluir colunas que não contribuem para a análise\n",
    "dados_tmp2 = dados_tmp.drop(['Valor_Compra','Unidade_Medida'],axis =1)"
   ]
  },
  {
   "cell_type": "markdown",
   "id": "971ef1d3",
   "metadata": {},
   "source": [
    "> Colunas com valores constantes ou completamente vazias não contribuem para análise, então ambas as colunas deverão ser desconsideradas."
   ]
  },
  {
   "cell_type": "code",
   "execution_count": 57,
   "id": "b7bd044e",
   "metadata": {},
   "outputs": [
    {
     "data": {
      "text/plain": [
       "(138275, 7)"
      ]
     },
     "execution_count": 57,
     "metadata": {},
     "output_type": "execute_result"
    }
   ],
   "source": [
    "dados_tmp2.shape"
   ]
  },
  {
   "cell_type": "markdown",
   "id": "897e0cb4",
   "metadata": {},
   "source": [
    "### -Tratamento de Valores ausentes na coluna Bairro pelo metodo de inputação"
   ]
  },
  {
   "cell_type": "code",
   "execution_count": 58,
   "id": "a2d8c013",
   "metadata": {},
   "outputs": [
    {
     "data": {
      "text/plain": [
       "316"
      ]
     },
     "execution_count": 58,
     "metadata": {},
     "output_type": "execute_result"
    }
   ],
   "source": [
    "# Total de valores ausentes na coluna Bairro antes do tratamento\n",
    "dados_tmp2.Bairro.isna().sum()"
   ]
  },
  {
   "cell_type": "code",
   "execution_count": 59,
   "id": "4ea3d9d1",
   "metadata": {},
   "outputs": [],
   "source": [
    "# Imputação de valores 'sem nome' nos registros ausentes. \n",
    "dados_tmp2.Bairro.fillna('sem nome', inplace = True)"
   ]
  },
  {
   "cell_type": "code",
   "execution_count": 60,
   "id": "550b7360",
   "metadata": {},
   "outputs": [
    {
     "data": {
      "text/plain": [
       "0"
      ]
     },
     "execution_count": 60,
     "metadata": {},
     "output_type": "execute_result"
    }
   ],
   "source": [
    "# Total de valores ausentes na coluna Bairro após o tratamento\n",
    "dados_tmp2.Bairro.isna().sum()"
   ]
  },
  {
   "cell_type": "code",
   "execution_count": 61,
   "id": "bde736e8",
   "metadata": {},
   "outputs": [
    {
     "data": {
      "text/plain": [
       "316"
      ]
     },
     "execution_count": 61,
     "metadata": {},
     "output_type": "execute_result"
    }
   ],
   "source": [
    "# Total de inputação da string 'sem nome' na coluna Bairro\n",
    "dados_tmp2.Bairro.isin(['sem nome']).sum()"
   ]
  },
  {
   "cell_type": "markdown",
   "id": "c4b0aa05",
   "metadata": {},
   "source": [
    "> Foram substituidos 316 valores ausentes pela informação 'sem nome' na coluna **Bairro**"
   ]
  },
  {
   "cell_type": "markdown",
   "id": "092e6f86",
   "metadata": {},
   "source": [
    "### -Tratamento de Valores Outlies"
   ]
  },
  {
   "cell_type": "code",
   "execution_count": 62,
   "id": "71f9521f",
   "metadata": {},
   "outputs": [
    {
     "data": {
      "text/plain": [
       "(138275, 7)"
      ]
     },
     "execution_count": 62,
     "metadata": {},
     "output_type": "execute_result"
    }
   ],
   "source": [
    "# Verificando o tamanho do dataframe antes da remoção dos outliers no conjunto de dados\n",
    "dados_tmp2.shape"
   ]
  },
  {
   "cell_type": "code",
   "execution_count": 63,
   "id": "601438c7",
   "metadata": {},
   "outputs": [
    {
     "data": {
      "text/plain": [
       "(138242, 7)"
      ]
     },
     "execution_count": 63,
     "metadata": {},
     "output_type": "execute_result"
    }
   ],
   "source": [
    "# Remoção dos registros outliers do Produto Etanol no conjunto de dados\n",
    "dados_tmp3 = dados_tmp2.drop(etanol_outlier.index)\n",
    "dados_tmp3.shape"
   ]
  },
  {
   "cell_type": "code",
   "execution_count": 64,
   "id": "f127bb92",
   "metadata": {},
   "outputs": [
    {
     "data": {
      "text/plain": [
       "(138225, 7)"
      ]
     },
     "execution_count": 64,
     "metadata": {},
     "output_type": "execute_result"
    }
   ],
   "source": [
    "# Remoção dos registros outliers do Produto Gasolina no conjunto de dados\n",
    "dados_tmp4 = dados_tmp3.drop(gasolina_outlier.index)\n",
    "dados_tmp4.shape"
   ]
  },
  {
   "cell_type": "code",
   "execution_count": 65,
   "id": "0133c66e",
   "metadata": {},
   "outputs": [
    {
     "data": {
      "text/plain": [
       "(138165, 7)"
      ]
     },
     "execution_count": 65,
     "metadata": {},
     "output_type": "execute_result"
    }
   ],
   "source": [
    "# Remoção dos registros outliers superior do Produto Gasolina Aditivada no conjunto de dados\n",
    "dados_tmp5 = dados_tmp4.drop(gasolina_adit_outlierHigh.index)\n",
    "dados_tmp5.shape"
   ]
  },
  {
   "cell_type": "code",
   "execution_count": 66,
   "id": "fa64a60e",
   "metadata": {},
   "outputs": [
    {
     "data": {
      "text/plain": [
       "(138158, 7)"
      ]
     },
     "execution_count": 66,
     "metadata": {},
     "output_type": "execute_result"
    }
   ],
   "source": [
    "# Remoção dos registros outliers inferior do Produto Gasolina Aditivada no conjunto de dados\n",
    "dados_tmp6 = dados_tmp5.drop(gasolina_adit_outlierLow.index)\n",
    "dados_tmp6.shape"
   ]
  },
  {
   "cell_type": "markdown",
   "id": "d779856c",
   "metadata": {},
   "source": [
    ">Foram removidos um total de 117 registros outliers"
   ]
  },
  {
   "cell_type": "markdown",
   "id": "c469b72f",
   "metadata": {},
   "source": [
    "## 5-Salvando o Dataset após Processamento de Dados"
   ]
  },
  {
   "cell_type": "code",
   "execution_count": 67,
   "id": "d421c038",
   "metadata": {},
   "outputs": [
    {
     "data": {
      "text/html": [
       "<div>\n",
       "<style scoped>\n",
       "    .dataframe tbody tr th:only-of-type {\n",
       "        vertical-align: middle;\n",
       "    }\n",
       "\n",
       "    .dataframe tbody tr th {\n",
       "        vertical-align: top;\n",
       "    }\n",
       "\n",
       "    .dataframe thead th {\n",
       "        text-align: right;\n",
       "    }\n",
       "</style>\n",
       "<table border=\"1\" class=\"dataframe\">\n",
       "  <thead>\n",
       "    <tr style=\"text-align: right;\">\n",
       "      <th></th>\n",
       "      <th>Regiao</th>\n",
       "      <th>Estado</th>\n",
       "      <th>Municipio</th>\n",
       "      <th>Bairro</th>\n",
       "      <th>Data_Coleta</th>\n",
       "      <th>Valor_Venda</th>\n",
       "    </tr>\n",
       "    <tr>\n",
       "      <th>Produto</th>\n",
       "      <th></th>\n",
       "      <th></th>\n",
       "      <th></th>\n",
       "      <th></th>\n",
       "      <th></th>\n",
       "      <th></th>\n",
       "    </tr>\n",
       "  </thead>\n",
       "  <tbody>\n",
       "    <tr>\n",
       "      <th>ETANOL</th>\n",
       "      <td>45100</td>\n",
       "      <td>45100</td>\n",
       "      <td>45100</td>\n",
       "      <td>45100</td>\n",
       "      <td>45100</td>\n",
       "      <td>45100</td>\n",
       "    </tr>\n",
       "    <tr>\n",
       "      <th>GASOLINA</th>\n",
       "      <td>52240</td>\n",
       "      <td>52240</td>\n",
       "      <td>52240</td>\n",
       "      <td>52240</td>\n",
       "      <td>52240</td>\n",
       "      <td>52240</td>\n",
       "    </tr>\n",
       "    <tr>\n",
       "      <th>GASOLINA ADITIVADA</th>\n",
       "      <td>40818</td>\n",
       "      <td>40818</td>\n",
       "      <td>40818</td>\n",
       "      <td>40818</td>\n",
       "      <td>40818</td>\n",
       "      <td>40818</td>\n",
       "    </tr>\n",
       "  </tbody>\n",
       "</table>\n",
       "</div>"
      ],
      "text/plain": [
       "                    Regiao  Estado  Municipio  Bairro  Data_Coleta  \\\n",
       "Produto                                                              \n",
       "ETANOL               45100   45100      45100   45100        45100   \n",
       "GASOLINA             52240   52240      52240   52240        52240   \n",
       "GASOLINA ADITIVADA   40818   40818      40818   40818        40818   \n",
       "\n",
       "                    Valor_Venda  \n",
       "Produto                          \n",
       "ETANOL                    45100  \n",
       "GASOLINA                  52240  \n",
       "GASOLINA ADITIVADA        40818  "
      ]
     },
     "execution_count": 67,
     "metadata": {},
     "output_type": "execute_result"
    }
   ],
   "source": [
    "# Verificando a quantidade de resgistros por Produto após o processamento dos dados\n",
    "dados_tmp6.groupby('Produto').count()"
   ]
  },
  {
   "cell_type": "code",
   "execution_count": 68,
   "id": "b61e960f",
   "metadata": {},
   "outputs": [],
   "source": [
    "df = dados_tmp6"
   ]
  },
  {
   "cell_type": "code",
   "execution_count": 69,
   "id": "7ef3eacd",
   "metadata": {},
   "outputs": [
    {
     "data": {
      "text/html": [
       "<div>\n",
       "<style scoped>\n",
       "    .dataframe tbody tr th:only-of-type {\n",
       "        vertical-align: middle;\n",
       "    }\n",
       "\n",
       "    .dataframe tbody tr th {\n",
       "        vertical-align: top;\n",
       "    }\n",
       "\n",
       "    .dataframe thead th {\n",
       "        text-align: right;\n",
       "    }\n",
       "</style>\n",
       "<table border=\"1\" class=\"dataframe\">\n",
       "  <thead>\n",
       "    <tr style=\"text-align: right;\">\n",
       "      <th></th>\n",
       "      <th>Regiao</th>\n",
       "      <th>Estado</th>\n",
       "      <th>Municipio</th>\n",
       "      <th>Bairro</th>\n",
       "      <th>Produto</th>\n",
       "      <th>Data_Coleta</th>\n",
       "      <th>Valor_Venda</th>\n",
       "    </tr>\n",
       "  </thead>\n",
       "  <tbody>\n",
       "    <tr>\n",
       "      <th>0</th>\n",
       "      <td>NE</td>\n",
       "      <td>AL</td>\n",
       "      <td>ARAPIRACA</td>\n",
       "      <td>PLANALTO</td>\n",
       "      <td>ETANOL</td>\n",
       "      <td>2023-01-02</td>\n",
       "      <td>3.89</td>\n",
       "    </tr>\n",
       "    <tr>\n",
       "      <th>1</th>\n",
       "      <td>NE</td>\n",
       "      <td>AL</td>\n",
       "      <td>ARAPIRACA</td>\n",
       "      <td>PLANALTO</td>\n",
       "      <td>GASOLINA ADITIVADA</td>\n",
       "      <td>2023-01-02</td>\n",
       "      <td>5.14</td>\n",
       "    </tr>\n",
       "    <tr>\n",
       "      <th>2</th>\n",
       "      <td>NE</td>\n",
       "      <td>AL</td>\n",
       "      <td>ARAPIRACA</td>\n",
       "      <td>PLANALTO</td>\n",
       "      <td>GASOLINA</td>\n",
       "      <td>2023-01-02</td>\n",
       "      <td>5.14</td>\n",
       "    </tr>\n",
       "    <tr>\n",
       "      <th>3</th>\n",
       "      <td>NE</td>\n",
       "      <td>AL</td>\n",
       "      <td>ARAPIRACA</td>\n",
       "      <td>CENTRO</td>\n",
       "      <td>ETANOL</td>\n",
       "      <td>2023-01-02</td>\n",
       "      <td>3.79</td>\n",
       "    </tr>\n",
       "    <tr>\n",
       "      <th>4</th>\n",
       "      <td>NE</td>\n",
       "      <td>AL</td>\n",
       "      <td>ARAPIRACA</td>\n",
       "      <td>CENTRO</td>\n",
       "      <td>GASOLINA</td>\n",
       "      <td>2023-01-02</td>\n",
       "      <td>5.29</td>\n",
       "    </tr>\n",
       "  </tbody>\n",
       "</table>\n",
       "</div>"
      ],
      "text/plain": [
       "  Regiao Estado  Municipio    Bairro             Produto Data_Coleta  \\\n",
       "0     NE     AL  ARAPIRACA  PLANALTO              ETANOL  2023-01-02   \n",
       "1     NE     AL  ARAPIRACA  PLANALTO  GASOLINA ADITIVADA  2023-01-02   \n",
       "2     NE     AL  ARAPIRACA  PLANALTO            GASOLINA  2023-01-02   \n",
       "3     NE     AL  ARAPIRACA    CENTRO              ETANOL  2023-01-02   \n",
       "4     NE     AL  ARAPIRACA    CENTRO            GASOLINA  2023-01-02   \n",
       "\n",
       "   Valor_Venda  \n",
       "0         3.89  \n",
       "1         5.14  \n",
       "2         5.14  \n",
       "3         3.79  \n",
       "4         5.29  "
      ]
     },
     "execution_count": 69,
     "metadata": {},
     "output_type": "execute_result"
    }
   ],
   "source": [
    "df.head()"
   ]
  },
  {
   "cell_type": "code",
   "execution_count": 70,
   "id": "7ca4f913",
   "metadata": {},
   "outputs": [],
   "source": [
    "# Salva a tabela processada no formato CSV para analise no Power BI\n",
    "df.to_csv('dados/preco_tratado.csv', index = False)"
   ]
  },
  {
   "cell_type": "markdown",
   "id": "2134d6a7",
   "metadata": {},
   "source": [
    "## 6-Análise de Dados no Power BI"
   ]
  },
  {
   "cell_type": "markdown",
   "id": "ccec4dfa",
   "metadata": {},
   "source": [
    "<p>Apartir dos dados processados previamente foi elaborado um relátorio no Power BI, com o auxilio de gráficos, expressões DAX (Expressões de Análise de Dados) e títulos dinâmicos.</p>\n",
    "<br>Segue abaixo um dashboard com uma visão geral do relarório, onde podemos observar o preço médio dos combustíveis (Etanol, Gasolina e Gasolina Aditivada).\n",
    "<br>O relatório abrange nível de detalhes hierárquicos, em que podemos visualizar as informações no nível nacional, regional e estadual.Também podemos analisar o preço médio ao longo do tempo e sua respestiva tendência.\n"
   ]
  },
  {
   "cell_type": "markdown",
   "id": "72e3458d",
   "metadata": {},
   "source": [
    "**Nota:** Lembrando que os dados são de domínio público e refence-se ao 1º Trimestre de 2023"
   ]
  },
  {
   "cell_type": "markdown",
   "id": "00dbe6e9",
   "metadata": {},
   "source": [
    "![](imagens/img_01.png)"
   ]
  },
  {
   "cell_type": "markdown",
   "id": "9852fb37",
   "metadata": {},
   "source": [
    "#### Descrição do Dashboard:<br>\n",
    "O relatório do Power BI é dinâmico, ao selecionar um item os outros gráficos irão exibir a informação do respectivo item, por exemplo: Se o estado do Rio de Janeiro for selecionado os outros gráficos irão exibir as informações do Rio de Janeiro.\n",
    "\n",
    "\n",
    "* 1- Mapa do Brasil, onde é possivel selcionar o estado desejado. Um click para selecionar e um click no item selecionado para desmarcar\n",
    "* 2- Exibe o preço médio por região. Um click na sigla da região para selecionar\n",
    "* 3- Exibe os 3 estados com maior preço médio de cada produto¹\n",
    "* 4- Exibe o preço mínimo (canto esquerdo), preço médio (central) e o preço máximo (canto direito) de cada produto\n",
    "* 5- Exibe o preço médio ao longo do tempo podendo ser visualizado em meses ou dias\n",
    "* 6- Exibe a tendencia do preço médio \n",
    "\n",
    "<br>**Nota1:** Os gráficos do 'top 3 estados com maior preço médio' são fixos e não interagem com os filtros."
   ]
  },
  {
   "cell_type": "markdown",
   "id": "49d840ff",
   "metadata": {},
   "source": [
    "![](imagens/img_02.png)"
   ]
  },
  {
   "cell_type": "markdown",
   "id": "9788fed1",
   "metadata": {},
   "source": [
    "Segue a visualização do preço médio de cada produto por região:\n",
    "* CO - Centro Oeste\n",
    "* N - Norte\n",
    "* NE - Nordeste\n",
    "* S - Sul\n",
    "* SE - Sudeste"
   ]
  },
  {
   "cell_type": "markdown",
   "id": "78a91f05",
   "metadata": {},
   "source": [
    "![](imagens/img_03.png)"
   ]
  },
  {
   "cell_type": "markdown",
   "id": "f4580087",
   "metadata": {},
   "source": [
    "![](imagens/img_04.png)"
   ]
  },
  {
   "cell_type": "markdown",
   "id": "51756c1f",
   "metadata": {},
   "source": [
    "![](imagens/img_05.png)"
   ]
  },
  {
   "cell_type": "markdown",
   "id": "276c1ffc",
   "metadata": {},
   "source": [
    "![](imagens/img_06.png)"
   ]
  },
  {
   "cell_type": "markdown",
   "id": "64fbf56d",
   "metadata": {},
   "source": [
    "![](imagens/img_07.png)"
   ]
  },
  {
   "cell_type": "markdown",
   "id": "0f2fdb91",
   "metadata": {},
   "source": [
    "Segue a visualização do preço médio de cada produto por estado"
   ]
  },
  {
   "cell_type": "markdown",
   "id": "fdfce7e2",
   "metadata": {},
   "source": [
    "![](imagens/img_08.png)"
   ]
  },
  {
   "cell_type": "markdown",
   "id": "074d6a8b",
   "metadata": {},
   "source": [
    "A seguir podemos observar a navegação da variação do preço médio através da hierarquia, para isso basta clicar no ícone destacado 'Expandir todo o campo um nível abaixo na hierarquia' para alterar o modo de visualização de variação mensal para variação diária.\n",
    "\n",
    "O nível de detalhe hierarquico também está disponível para o gráfico de tendência (Média Móvel)\n",
    "\n",
    "**Nota:** Na parte inferior do próprio gráfico será exibido uma barra de rolagem, que permite a visualização de toda a extensão do gráfico ao deslizar para esquerda ou para direita."
   ]
  },
  {
   "cell_type": "markdown",
   "id": "d26e984b",
   "metadata": {},
   "source": [
    "![](imagens/img_09.png)"
   ]
  },
  {
   "cell_type": "markdown",
   "id": "ef81577b",
   "metadata": {},
   "source": [
    "![](imagens/img_10.png)"
   ]
  },
  {
   "cell_type": "markdown",
   "id": "437d92b0",
   "metadata": {},
   "source": [
    "![](imagens/img_11.png)"
   ]
  },
  {
   "cell_type": "markdown",
   "id": "b08f59c7",
   "metadata": {},
   "source": [
    "Para subir a hierarquia para visualização mensal, basta clicar no ícone destacado 'Fazer drill up'."
   ]
  },
  {
   "cell_type": "markdown",
   "id": "798d5452",
   "metadata": {},
   "source": [
    "![](imagens/img_12.png)"
   ]
  },
  {
   "cell_type": "markdown",
   "id": "1eb9ea3e",
   "metadata": {},
   "source": [
    "## 7-Relatório Final"
   ]
  },
  {
   "cell_type": "markdown",
   "id": "8bd31042",
   "metadata": {},
   "source": [
    "**1-Análise do panorama nacional:**<br>\n",
    "-Podemos constatar que no 1º trimestre de 2023 há uma tendência de aumento de preço nos 3 três produtos avaliados, sendo que na gasolina e gasolina aditivada tendendo para um aumento mais expressivo e já no etanol houve um aumento menos expressivo se aproximando da estabilidade.<br>\n",
    "<br>-Houve aumento de preço nos combustíveis em todo o território nacional no mês de março em comparação ao mês de fevereiro:\n",
    "* aumento de +8,03% para Gasolina\n",
    "* aumento de +7,95% para Gasolina Aditivada \n",
    "* aumento de +2,99% para Etanol\n",
    "\n",
    "**Nota:** A única exceção seria o estado do Amapá onde o preço médio do etanol teve uma leve queda de -0,57%  no mês de  março em comparação ao mês de fevereiro de 2023. Porém há em alguns estados, em especial da região norte, períodos sem coleta de dados no mês de março, inclusive o estado do Amapá é um deles, portanto não podemos afirmar que houve realmente queda no preço médio do etanol no Amapá.<br>\n",
    "\n",
    "**2-Análise do panorama regional:**<br>\n",
    "-Seguindo a tendência nacional todas as regiões do Brasil tiveram aumento no preço médio nos combustíveis.<br>\n",
    "-Das regiões do Brasil, a região norte é a que apresentou o maior preço médio, seguido pela região nordeste.<br>\n",
    "-Segue a classificação das regiões com maior preço médio segmentado por produto\n",
    "\n",
    "|Rank |Etanol|Gasolina|Gasolina Aditivada|\n",
    "|:-:|:-:|:-:|:-:|\n",
    "|1  | Norte | Norte | Norte |\n",
    "|2  | Sul | Nordeste | Nordeste |\n",
    "|3  | Nordeste | Sul | Sul |\n",
    "|4  | Sudeste | Centro Oeste | Sudeste |\n",
    "|5  | Centro Oeste | Sudeste | Centro Oeste |\n",
    "\n",
    "**3-Análise do panorama estadual**<br>\n",
    "-Ao analisar os estados baseado no Top3 podemos confirmar a tendência observada no panorama regional, em que os estados com maior preço médio de gasolina e gasolina aditivada estão localizados nas regiões norte e nordeste. Os maiores preços médios do etanol estão distribuidos nas regiões norte e sul.<br>\n",
    "\n",
    "-Com uma análise mais aprofundada na base de dados podemos afirmar que 1/3 da classificação, ou seja, nas nove (9) primeiras colocações prevalecem as regiões norte e nordeste ao que se refere ao preço médio da gasolina e gasolina aditivada. Já o etanol possui no Top9 uma distribuição mais ampla nas regiões norte, nordeste e sul.<br>\n",
    "\n",
    "\n",
    "**Conclusão**<br>\n",
    "Podemos concluir que no mês de março de 2023 ficou mais caro abastecer os automóveis no Brasil, principalmente nas regiões Norte e Nordeste."
   ]
  },
  {
   "cell_type": "markdown",
   "id": "cd6b06c6",
   "metadata": {},
   "source": [
    "# FIM"
   ]
  }
 ],
 "metadata": {
  "kernelspec": {
   "display_name": "Python 3 (ipykernel)",
   "language": "python",
   "name": "python3"
  },
  "language_info": {
   "codemirror_mode": {
    "name": "ipython",
    "version": 3
   },
   "file_extension": ".py",
   "mimetype": "text/x-python",
   "name": "python",
   "nbconvert_exporter": "python",
   "pygments_lexer": "ipython3",
   "version": "3.9.7"
  }
 },
 "nbformat": 4,
 "nbformat_minor": 5
}
